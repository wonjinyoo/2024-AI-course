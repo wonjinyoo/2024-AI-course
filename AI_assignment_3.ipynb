{
  "nbformat": 4,
  "nbformat_minor": 0,
  "metadata": {
    "colab": {
      "provenance": [],
      "gpuType": "T4",
      "include_colab_link": true
    },
    "kernelspec": {
      "name": "python3",
      "display_name": "Python 3"
    },
    "language_info": {
      "name": "python"
    },
    "accelerator": "GPU",
    "gpuClass": "standard"
  },
  "cells": [
    {
      "cell_type": "markdown",
      "metadata": {
        "id": "view-in-github",
        "colab_type": "text"
      },
      "source": [
        "<a href=\"https://colab.research.google.com/github/wonjinyoo/2024-AI-course/blob/main/AI_assignment_3.ipynb\" target=\"_parent\"><img src=\"https://colab.research.google.com/assets/colab-badge.svg\" alt=\"Open In Colab\"/></a>"
      ]
    },
    {
      "cell_type": "markdown",
      "source": [
        "# 2024-1 Artificial Intelligence (01)\n",
        "## Homework #3: Sentiment Analysis with Transformer\n",
        "---"
      ],
      "metadata": {
        "id": "pK9aistRVKZC"
      }
    },
    {
      "cell_type": "markdown",
      "source": [
        "### Importing necessary libraries"
      ],
      "metadata": {
        "id": "7FNIHr8IV3fq"
      }
    },
    {
      "cell_type": "code",
      "source": [
        "import tensorflow as tf\n",
        "from tensorflow.keras.datasets import imdb\n",
        "from tensorflow.keras.preprocessing.sequence import pad_sequences\n",
        "import re"
      ],
      "metadata": {
        "id": "2S8zaznokgW3"
      },
      "execution_count": null,
      "outputs": []
    },
    {
      "cell_type": "markdown",
      "source": [
        "### Define multi-head attention block"
      ],
      "metadata": {
        "id": "StfkcSSSIIFt"
      }
    },
    {
      "cell_type": "code",
      "source": [
        "class MultiHeadAttention(tf.keras.layers.Layer):\n",
        "    def __init__(self, embedding_dim, num_heads=8):\n",
        "        super(MultiHeadAttention, self).__init__()\n",
        "        self.embedding_dim = embedding_dim # d_model\n",
        "        self.num_heads = num_heads\n",
        "\n",
        "        self.ff_dim = embedding_dim // num_heads\n",
        "        self.query_dense = tf.keras.layers.Dense(embedding_dim)\n",
        "        self.key_dense = tf.keras.layers.Dense(embedding_dim)\n",
        "        self.value_dense = tf.keras.layers.Dense(embedding_dim)\n",
        "        self.ff = tf.keras.layers.Dense(embedding_dim)\n",
        "\n",
        "    def scaled_dot_product_attention(self, query, key, value):\n",
        "        ### Please fill here\n",
        "        matmul_qk = tf.matmul(query, key, transpose_b=True)\n",
        "        depth = tf.cast(tf.shape(key)[-1], tf.float32)\n",
        "        logits = matmul_qk / tf.math.sqrt(depth)\n",
        "        attention_weights = tf.nn.softmax(logits, axis=-1)\n",
        "        output = tf.matmul(attention_weights, value)\n",
        "\n",
        "        return output, attention_weights\n",
        "\n",
        "    def split_heads(self, x, batch_size):\n",
        "        x = tf.reshape(x, (batch_size, -1, self.num_heads, self.ff_dim))\n",
        "        return tf.transpose(x, perm=[0, 2, 1, 3])\n",
        "\n",
        "    def call(self, inputs):\n",
        "        batch_size = tf.shape(inputs)[0]\n",
        "\n",
        "        ### Please fill here\n",
        "\n",
        "        # Linear layers\n",
        "        query = self.query_dense(inputs)\n",
        "        key = self.key_dense(inputs)\n",
        "        value = self.value_dense(inputs)\n",
        "\n",
        "        # Split heads\n",
        "        query = self.split_heads(query, batch_size)\n",
        "        key = self.split_heads(key, batch_size)\n",
        "        value = self.split_heads(value, batch_size)\n",
        "\n",
        "        # Scaled dot-product attention\n",
        "        scaled_attention, attention_weights = self.scaled_dot_product_attention(query, key, value)\n",
        "        scaled_attention = tf.transpose(scaled_attention, perm=[0, 2, 1, 3])\n",
        "\n",
        "        # Concatenate heads\n",
        "        concat_attention = tf.reshape(scaled_attention, (batch_size, -1, self.embedding_dim))\n",
        "\n",
        "        # Final linear layer\n",
        "        outputs = self.ff(concat_attention)\n",
        "\n",
        "        return outputs"
      ],
      "metadata": {
        "id": "S2riqfri_mPE"
      },
      "execution_count": null,
      "outputs": []
    },
    {
      "cell_type": "markdown",
      "source": [
        "### Define transformer block"
      ],
      "metadata": {
        "id": "pFeEgw9QIMX_"
      }
    },
    {
      "cell_type": "code",
      "source": [
        "class TransformerBlock(tf.keras.layers.Layer):\n",
        "    def __init__(self, embedding_dim, num_heads, dff, rate=0.1):\n",
        "        super(TransformerBlock, self).__init__()\n",
        "        self.att = MultiHeadAttention(embedding_dim, num_heads)\n",
        "        self.ffn = tf.keras.Sequential(\n",
        "            [tf.keras.layers.Dense(dff, activation=\"relu\"),\n",
        "             tf.keras.layers.Dense(embedding_dim),]\n",
        "        )\n",
        "        self.layernorm1 = tf.keras.layers.LayerNormalization(epsilon=1e-6)\n",
        "        self.layernorm2 = tf.keras.layers.LayerNormalization(epsilon=1e-6)\n",
        "        self.dropout1 = tf.keras.layers.Dropout(rate)\n",
        "        self.dropout2 = tf.keras.layers.Dropout(rate)\n",
        "\n",
        "    def call(self, inputs, training):\n",
        "        ### Please fill here\n",
        "\n",
        "        # Multi-head attention and dropout 1\n",
        "        attn_output = self.att(inputs)\n",
        "        attn_output = self.dropout1(attn_output, training=training)\n",
        "\n",
        "        # Residual connection and layer normalization 1\n",
        "        out1 = self.layernorm1(inputs + attn_output)\n",
        "\n",
        "        # Feed-forward network\n",
        "        ffn_output = self.ffn(out1)\n",
        "\n",
        "        # Dropout 2 and residual connection and layer normalization 2\n",
        "        ffn_output = self.dropout2(ffn_output, training=training)\n",
        "        output = self.layernorm2(out1 + ffn_output)\n",
        "\n",
        "        return output"
      ],
      "metadata": {
        "id": "rjAYVzZq5luY"
      },
      "execution_count": null,
      "outputs": []
    },
    {
      "cell_type": "markdown",
      "source": [
        "### Define token and position embedding"
      ],
      "metadata": {
        "id": "BAg1n3rTIP9h"
      }
    },
    {
      "cell_type": "code",
      "source": [
        "class TokenAndPositionEmbedding(tf.keras.layers.Layer):\n",
        "    def __init__(self, max_len, vocab_size, embedding_dim):\n",
        "        super(TokenAndPositionEmbedding, self).__init__()\n",
        "        self.token_emb = tf.keras.layers.Embedding(vocab_size, embedding_dim)\n",
        "        self.pos_emb = tf.keras.layers.Embedding(max_len, embedding_dim)\n",
        "\n",
        "    def call(self, x):\n",
        "        max_len = tf.shape(x)[-1]\n",
        "        positions = tf.range(start=0, limit=max_len, delta=1)\n",
        "        positions = self.pos_emb(positions)\n",
        "        x = self.token_emb(x)\n",
        "        return x + positions"
      ],
      "metadata": {
        "id": "ZUGndhfd9azg"
      },
      "execution_count": null,
      "outputs": []
    },
    {
      "cell_type": "markdown",
      "source": [
        "### Dataset preparation"
      ],
      "metadata": {
        "id": "uBrjDCBYIUle"
      }
    },
    {
      "cell_type": "code",
      "source": [
        "vocab_size = 20000\n",
        "max_len = 200\n",
        "\n",
        "(X_train, y_train), (X_test, y_test) = imdb.load_data(num_words=vocab_size)\n",
        "print('Train review size : {}'.format(len(X_train)))\n",
        "print('Test review size : {}'.format(len(X_test)))"
      ],
      "metadata": {
        "id": "B_PJMpCP_cPU",
        "colab": {
          "base_uri": "https://localhost:8080/"
        },
        "outputId": "fcf0bcd9-e6c1-4355-9825-93a89e800f21"
      },
      "execution_count": null,
      "outputs": [
        {
          "output_type": "stream",
          "name": "stdout",
          "text": [
            "Train review size : 25000\n",
            "Test review size : 25000\n"
          ]
        }
      ]
    },
    {
      "cell_type": "markdown",
      "source": [
        "### Pad sequences"
      ],
      "metadata": {
        "id": "ECFjxpdCIXiq"
      }
    },
    {
      "cell_type": "code",
      "source": [
        "X_train = pad_sequences(X_train, maxlen=max_len)\n",
        "X_test = pad_sequences(X_test, maxlen=max_len)"
      ],
      "metadata": {
        "id": "TnPd-_iJ_f3l"
      },
      "execution_count": null,
      "outputs": []
    },
    {
      "cell_type": "markdown",
      "source": [
        "### Define the whole model\n",
        "The model looks like this:\n",
        "\n",
        "![2023-1 AI.png](data:image/png;base64,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)"
      ],
      "metadata": {
        "id": "neZDXJlPIaDq"
      }
    },
    {
      "cell_type": "code",
      "source": [
        "def Transformer(embedding_dim, num_heads, dff):\n",
        "  inputs = tf.keras.layers.Input(shape=(max_len,))\n",
        "  embedding_layer = TokenAndPositionEmbedding(max_len, vocab_size, embedding_dim)\n",
        "  x = embedding_layer(inputs)\n",
        "  ### Please fill here\n",
        "\n",
        "  transformer_block = TransformerBlock(embedding_dim, num_heads, dff)\n",
        "  x = transformer_block(x)\n",
        "\n",
        "  x = tf.keras.layers.GlobalAveragePooling1D()(x)\n",
        "  x = tf.keras.layers.Dropout(0.1)(x)\n",
        "  x = tf.keras.layers.Dense(20, activation=\"relu\")(x)\n",
        "  x = tf.keras.layers.Dropout(0.1)(x)\n",
        "  outputs = tf.keras.layers.Dense(20, activation=\"softmax\")(x)\n",
        "\n",
        "  return tf.keras.Model(inputs=inputs, outputs=outputs)"
      ],
      "metadata": {
        "id": "VC38lSu0Qa3d"
      },
      "execution_count": null,
      "outputs": []
    },
    {
      "cell_type": "markdown",
      "source": [
        "### Instantiate model"
      ],
      "metadata": {
        "id": "wWoyVrOhQZ55"
      }
    },
    {
      "cell_type": "code",
      "source": [
        "embedding_dim = 32  # Embedding vector dim\n",
        "num_heads = 2\n",
        "dff = 32  # hidden units of FCN\n",
        "\n",
        "model = Transformer(embedding_dim, num_heads, dff)"
      ],
      "metadata": {
        "id": "8p4PdClU_hwL"
      },
      "execution_count": null,
      "outputs": []
    },
    {
      "cell_type": "markdown",
      "source": [
        "### Complile and train"
      ],
      "metadata": {
        "id": "IfglVDZ_rmtd"
      }
    },
    {
      "cell_type": "code",
      "source": [
        "model.compile(\"adam\", \"sparse_categorical_crossentropy\", metrics=[\"accuracy\"])\n",
        "history = model.fit(X_train, y_train, batch_size=32, epochs=2, validation_data=(X_test, y_test))\n",
        "\n",
        "print(\"Test accuracy: %.4f\" % (model.evaluate(X_test, y_test)[1]))"
      ],
      "metadata": {
        "id": "2JMsmgHyrpFG",
        "colab": {
          "base_uri": "https://localhost:8080/"
        },
        "outputId": "23593958-a989-4297-88be-a079088fcb5b"
      },
      "execution_count": null,
      "outputs": [
        {
          "output_type": "stream",
          "name": "stdout",
          "text": [
            "Epoch 1/2\n",
            "782/782 [==============================] - 59s 68ms/step - loss: 0.4604 - accuracy: 0.7857 - val_loss: 0.3172 - val_accuracy: 0.8628\n",
            "Epoch 2/2\n",
            "782/782 [==============================] - 22s 28ms/step - loss: 0.2071 - accuracy: 0.9204 - val_loss: 0.3104 - val_accuracy: 0.8739\n",
            "782/782 [==============================] - 4s 6ms/step - loss: 0.3104 - accuracy: 0.8739\n",
            "Test accuracy: 0.8739\n"
          ]
        }
      ]
    },
    {
      "cell_type": "markdown",
      "source": [
        "### Predict"
      ],
      "metadata": {
        "id": "wHF4BkEjSyuv"
      }
    },
    {
      "cell_type": "code",
      "source": [
        "word_to_index = imdb.get_word_index()\n",
        "def sentiment_predict(model, new_sentence):\n",
        "  new_sentence = re.sub('[^0-9a-zA-Z ]', '', new_sentence).lower()\n",
        "  encoded = []\n",
        "\n",
        "  for word in new_sentence.split():\n",
        "    try :\n",
        "      if word_to_index[word] <= 10000:\n",
        "        encoded.append(word_to_index[word]+3)\n",
        "      else:\n",
        "        encoded.append(2)\n",
        "    except KeyError:\n",
        "      encoded.append(2)\n",
        "\n",
        "  pad_sequence = pad_sequences([encoded], maxlen=max_len)\n",
        "  score = float(model.predict(pad_sequence)[0][0])\n",
        "\n",
        "  if(score > 0.5):\n",
        "    print(\"{:.2f}% negative\".format(score * 100))\n",
        "  else:\n",
        "    print(\"{:.2f}% positive\".format((1 - score) * 100))\n",
        "\n",
        "text = \"This movie was just way too overrated. \\\n",
        "        The fighting was not professional and in slow motion. \\\n",
        "        I was expecting more from a 200 million budget movie. \\\n",
        "        The little sister of T.Challa was just trying too hard to be funny. \\\n",
        "        The story was really dumb as well. \\\n",
        "        Don't watch this movie if you are going because others say its great \\\n",
        "        unless you are a Black Panther fan or Marvels fan.\"\n",
        "sentiment_predict(model, text)"
      ],
      "metadata": {
        "id": "HcnTAS1XSxK6",
        "colab": {
          "base_uri": "https://localhost:8080/"
        },
        "outputId": "b09c38e4-9190-4758-9cc4-b9cd2bb53b35"
      },
      "execution_count": null,
      "outputs": [
        {
          "output_type": "stream",
          "name": "stdout",
          "text": [
            "1/1 [==============================] - 0s 438ms/step\n",
            "89.53% negative\n"
          ]
        }
      ]
    }
  ]
}