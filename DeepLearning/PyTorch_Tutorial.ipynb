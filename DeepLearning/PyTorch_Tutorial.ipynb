{
  "nbformat": 4,
  "nbformat_minor": 0,
  "metadata": {
    "colab": {
      "provenance": [],
      "gpuType": "T4"
    },
    "kernelspec": {
      "name": "python3",
      "display_name": "Python 3"
    },
    "language_info": {
      "name": "python"
    },
    "accelerator": "GPU"
  },
  "cells": [
    {
      "cell_type": "markdown",
      "metadata": {
        "id": "HI43aS5mRO1s"
      },
      "source": [
        "# PyTorch Introduction\n",
        "Welcome to the PyTorch tutorial for deep learning! If you haven't already, enable a GPU for this colab instance by doing \"Edit\" -> \"Notebook settings\" -> \"Hardware accelerator\" drop-down -> \"GPU\" -> \"Save\"."
      ]
    },
    {
      "cell_type": "markdown",
      "metadata": {
        "id": "H7cLA7izR_zl"
      },
      "source": [
        "Let's make sure we're using the right Python and PyTorch versions, and that we have a GPU at our disposal."
      ]
    },
    {
      "cell_type": "code",
      "metadata": {
        "id": "I12wdApTZC_H",
        "colab": {
          "base_uri": "https://localhost:8080/"
        },
        "outputId": "a23355dd-288d-478e-98fb-512155d558b8"
      },
      "source": [
        "import sys\n",
        "import torch\n",
        "#print(f'Python version info: {sys.version}')\n",
        "print(f'PyTorch version info: {torch.__version__}')\n",
        "print(f'PyTorch detects a GPU: {torch.cuda.is_available()}')"
      ],
      "execution_count": 2,
      "outputs": [
        {
          "output_type": "stream",
          "name": "stdout",
          "text": [
            "PyTorch version info: 2.2.1+cu121\n",
            "PyTorch detects a GPU: True\n"
          ]
        }
      ]
    },
    {
      "cell_type": "markdown",
      "metadata": {
        "id": "ptKO3cRFTjWo"
      },
      "source": [
        "# Overview\n",
        "We'll begin by doing some MNIST classification, starting from low-level operations and gradually replacing chunks using `torch` abstractions such as `torch.nn.Module`, `torch.optim.SGD`, and `torch.utils.data.DataLoader`. (Much of this content is adapted from [this tutorial](https://pytorch.org/tutorials/beginner/nn_tutorial.html) by Jeremy Howard.) We'll then proceed to a whirlwind tour over PyTorch features that we suspect will be relevant for your homeworks for this course. Finally, we'll see some tips and tricks for debugging and getting help."
      ]
    },
    {
      "cell_type": "markdown",
      "metadata": {
        "id": "8t8qKU2yVE5Q"
      },
      "source": [
        "# PyTorch Basics via MNIST\n",
        "### MNIST\n",
        "Download MNIST."
      ]
    },
    {
      "cell_type": "code",
      "source": [
        "from pathlib import Path\n",
        "import requests\n",
        "\n",
        "DATA_PATH = Path(\"data\")\n",
        "PATH = DATA_PATH / \"mnist\"\n",
        "\n",
        "PATH.mkdir(parents=True, exist_ok=True)\n",
        "\n",
        "URL = \"https://github.com/pytorch/tutorials/raw/main/_static/\"\n",
        "FILENAME = \"mnist.pkl.gz\"\n",
        "\n",
        "if not (PATH / FILENAME).exists():\n",
        "        content = requests.get(URL + FILENAME).content\n",
        "        (PATH / FILENAME).open(\"wb\").write(content)"
      ],
      "metadata": {
        "id": "-wYk1d8CiBXy"
      },
      "execution_count": 3,
      "outputs": []
    },
    {
      "cell_type": "markdown",
      "metadata": {
        "id": "G7K4tLsIVURi"
      },
      "source": [
        "Load MNIST into memory."
      ]
    },
    {
      "cell_type": "code",
      "metadata": {
        "id": "EzxqdhhKVTMA"
      },
      "source": [
        "import pickle\n",
        "import gzip\n",
        "import numpy as np\n",
        "\n",
        "with gzip.open((PATH / FILENAME).as_posix(), \"rb\") as f:\n",
        "        ((x_train, y_train), (x_val, y_val), _) = pickle.load(f, encoding=\"latin-1\")"
      ],
      "execution_count": 5,
      "outputs": []
    },
    {
      "cell_type": "markdown",
      "metadata": {
        "id": "ouKpbI6DWYWx"
      },
      "source": [
        "The data currently exists as NumPy arrays. Let's take a closer look."
      ]
    },
    {
      "cell_type": "code",
      "metadata": {
        "id": "EG9KpubhWbNZ",
        "colab": {
          "base_uri": "https://localhost:8080/",
          "height": 521
        },
        "outputId": "fb89814d-fb96-42aa-9cf2-f5679a05a84b"
      },
      "source": [
        "%matplotlib inline\n",
        "import matplotlib.pyplot as plt\n",
        "import numpy as np\n",
        "\n",
        "print(f'training inputs: shape {x_train.shape}, dtype {x_train.dtype}')\n",
        "print(f'training outputs: shape {y_train.shape}, dtype {y_train.dtype}')\n",
        "print(f'input range: {x_train.min(), x_train.max()}')\n",
        "print(f'label range: {y_train.min(), y_train.max()}')\n",
        "\n",
        "i_example = 12\n",
        "x_train_example = x_train[i_example].reshape((28, 28))\n",
        "y_train_example = y_train[i_example]\n",
        "plt.imshow(x_train_example, cmap='gray')\n",
        "print(f'label of training example {i_example}: {y_train_example}')"
      ],
      "execution_count": 6,
      "outputs": [
        {
          "output_type": "stream",
          "name": "stdout",
          "text": [
            "training inputs: shape (50000, 784), dtype float32\n",
            "training outputs: shape (50000,), dtype int64\n",
            "input range: (0.0, 0.99609375)\n",
            "label range: (0, 9)\n",
            "label of training example 12: 3\n"
          ]
        },
        {
          "output_type": "display_data",
          "data": {
            "text/plain": [
              "<Figure size 640x480 with 1 Axes>"
            ],
            "image/png": "[encoded data removed]"
          },
          "metadata": {}
        }
      ]
    },
    {
      "cell_type": "markdown",
      "metadata": {
        "id": "COOGtiMZXqYq"
      },
      "source": [
        "We need to convert the data into PyTorch tensors. For ease of use, tensors have some familiar attributes and methods."
      ]
    },
    {
      "cell_type": "code",
      "metadata": {
        "id": "VEk34MTIVfh2",
        "colab": {
          "base_uri": "https://localhost:8080/"
        },
        "outputId": "b44f509d-2c04-4d62-91fe-6ca8e22fb303"
      },
      "source": [
        "x_train, y_train, x_val, y_val = map(torch.tensor, (x_train, y_train, x_val, y_val))\n",
        "print(f'training inputs: shape {x_train.shape}, dtype {x_train.dtype}')\n",
        "print(f'training outputs: shape {y_train.shape}, dtype {y_train.dtype}')\n",
        "print(f'input range: {x_train.min(), x_train.max()}')\n",
        "print(f'label range: {y_train.min(), y_train.max()}')"
      ],
      "execution_count": 7,
      "outputs": [
        {
          "output_type": "stream",
          "name": "stdout",
          "text": [
            "training inputs: shape torch.Size([50000, 784]), dtype torch.float32\n",
            "training outputs: shape torch.Size([50000]), dtype torch.int64\n",
            "input range: (tensor(0.), tensor(0.9961))\n",
            "label range: (tensor(0), tensor(9))\n"
          ]
        }
      ]
    },
    {
      "cell_type": "markdown",
      "metadata": {
        "id": "YuLs5f2bcwXU"
      },
      "source": [
        "### Bare Metal MNIST\n",
        "We will first train a model for classifying MNIST digits with nothing but tensor and gradient operations. We'll later substitute out chunks of this code with the appropriate PyTorch abstractions.\n",
        "\n",
        "To keep things simple, for this we'll use a linear model. For a single example, the model is\n",
        "$$ z = W^\\top x + b $$\n",
        "where $W \\in \\mathbb{R}^{784 \\times 10}$ and $b \\in \\mathbb{R}^{10}$ are the parameters to be learned, $x \\in [0, 1]^{784}$ is the MNIST image, and $z \\in \\mathbb{R}^{10}$ are the logits of the categorical distribution for the label of $x$.\n",
        "\n",
        "To obtain categorical parameters from the logits, we do\n",
        "$$ p = \\text{softmax}(z) = \\frac{1}{\\sum_j \\exp(z_j)} \\exp(z).$$\n",
        "\n",
        "The label $y \\in \\{0, \\dots, 9\\}$ implicitly defines a one-hot categorical parameter vector $y' \\in \\{0, 1\\}^{10}$, where $y$ corresponds to the index of $y'$ that is 1. The negative log-likelihood is then\n",
        "$$ \\text{nll}(p, y) = - \\sum_{i=0}^{9} y'_i \\log(p_i) = -\\log(p_y)$$\n",
        "\n",
        "Note that our implementation will assume batched inputs with a batch size of $B$. That is,\n",
        "$$x_b = \\begin{bmatrix} x_1^\\top \\\\ \\vdots \\\\ x_B^\\top \\end{bmatrix} \\in [0, 1]^{B \\times 784}.$$ We can vectorize the above operations to process all $B$ inputs at once (naively using `for` loops is much, much slower). For example, to compute the logits, we have\n",
        "$$z_b = x_b W + \\begin{bmatrix} b^\\top \\\\ \\vdots \\\\ b^\\top \\end{bmatrix} \\in \\mathbb{R}^{B \\times 10}$$\n"
      ]
    },
    {
      "cell_type": "code",
      "metadata": {
        "id": "dZEHIaizc3CU"
      },
      "source": [
        "W = torch.randn(784, 10, requires_grad=True)\n",
        "b = torch.randn(10, requires_grad=True)\n",
        "\n",
        "def logits(x_b, W, b):\n",
        "    return x_b @ W + b    # @ matrix multiplication, addition is broadcasted\n",
        "\n",
        "def log_softmax(z_b):\n",
        "    return z_b - torch.logsumexp(z_b, dim=1, keepdim=True)  # combining log and softmax is more numerically stable\n",
        "\n",
        "def negative_log_likelihood(logp_b, y_b):\n",
        "    return -torch.mean(logp_b[range(y_b.shape[0]), y_b])   # indexing trick\n",
        "\n",
        "def accuracy(logit_b, y_b):\n",
        "    return (logit_b.argmax(dim=1) == y_b).float().mean().item()"
      ],
      "execution_count": 8,
      "outputs": []
    },
    {
      "cell_type": "markdown",
      "metadata": {
        "id": "zQYMuIF7i87C"
      },
      "source": [
        "Note that the `requires_grad` keyword argument/attribute determines whether a tensor is a constant or a variable."
      ]
    },
    {
      "cell_type": "code",
      "metadata": {
        "id": "0vC_MuGOjDTn",
        "colab": {
          "base_uri": "https://localhost:8080/"
        },
        "outputId": "cff26afa-8697-4a4a-ddd0-4ef6486a67bb"
      },
      "source": [
        "print(b.requires_grad)\n",
        "print(y_train.requires_grad)"
      ],
      "execution_count": 9,
      "outputs": [
        {
          "output_type": "stream",
          "name": "stdout",
          "text": [
            "True\n",
            "False\n"
          ]
        }
      ]
    },
    {
      "cell_type": "markdown",
      "metadata": {
        "id": "DrS8cR3OiARG"
      },
      "source": [
        "### Computation Graph\n",
        "Now we have the opportunity to look at some of PyTorch's core mechanics: reverse-mode automatic differentiation (a.k.a. backpropagation) on a dynamic computation graph. Let's take a batch of training data and compute the average loss over the batch."
      ]
    },
    {
      "cell_type": "code",
      "metadata": {
        "id": "LGQELJgRg_TY"
      },
      "source": [
        "batch_size = 64\n",
        "x_b, y_b = x_train[:batch_size], y_train[:batch_size]\n",
        "\n",
        "def loss_fn(W, b, x_b, y_b):\n",
        "    logit_b = logits(x_b, W, b)\n",
        "    logp_b = log_softmax(logit_b)\n",
        "    loss = negative_log_likelihood(logp_b, y_b)\n",
        "    return loss\n",
        "\n",
        "loss = loss_fn(W, b, x_b, y_b)"
      ],
      "execution_count": 10,
      "outputs": []
    },
    {
      "cell_type": "markdown",
      "metadata": {
        "id": "7YpM1c2sj-GN"
      },
      "source": [
        "Computations like the above are automagically recorded on a computation graph. Let's take a peek."
      ]
    },
    {
      "cell_type": "code",
      "metadata": {
        "id": "Iab2ejfRlpLv",
        "colab": {
          "base_uri": "https://localhost:8080/"
        },
        "outputId": "9a107bf4-ea60-4df0-8be9-bbcef921e930"
      },
      "source": [
        "!pip install torchviz"
      ],
      "execution_count": 11,
      "outputs": [
        {
          "output_type": "stream",
          "name": "stdout",
          "text": [
            "Collecting torchviz\n",
            "  Downloading torchviz-0.0.2.tar.gz (4.9 kB)\n",
            "  Preparing metadata (setup.py) ... \u001b[?25l\u001b[?25hdone\n",
            "Requirement already satisfied: torch in /usr/local/lib/python3.10/dist-packages (from torchviz) (2.2.1+cu121)\n",
            "Requirement already satisfied: graphviz in /usr/local/lib/python3.10/dist-packages (from torchviz) (0.20.2)\n",
            "Requirement already satisfied: filelock in /usr/local/lib/python3.10/dist-packages (from torch->torchviz) (3.13.1)\n",
            "Requirement already satisfied: typing-extensions>=4.8.0 in /usr/local/lib/python3.10/dist-packages (from torch->torchviz) (4.10.0)\n",
            "Requirement already satisfied: sympy in /usr/local/lib/python3.10/dist-packages (from torch->torchviz) (1.12)\n",
            "Requirement already satisfied: networkx in /usr/local/lib/python3.10/dist-packages (from torch->torchviz) (3.2.1)\n",
            "Requirement already satisfied: jinja2 in /usr/local/lib/python3.10/dist-packages (from torch->torchviz) (3.1.3)\n",
            "Requirement already satisfied: fsspec in /usr/local/lib/python3.10/dist-packages (from torch->torchviz) (2023.6.0)\n",
            "Collecting nvidia-cuda-nvrtc-cu12==12.1.105 (from torch->torchviz)\n",
            "  Downloading nvidia_cuda_nvrtc_cu12-12.1.105-py3-none-manylinux1_x86_64.whl (23.7 MB)\n",
            "\u001b[2K     \u001b[90m━━━━━━━━━━━━━━━━━━━━━━━━━━━━━━━━━━━━━━━━\u001b[0m \u001b[32m23.7/23.7 MB\u001b[0m \u001b[31m50.0 MB/s\u001b[0m eta \u001b[36m0:00:00\u001b[0m\n",
            "\u001b[?25hCollecting nvidia-cuda-runtime-cu12==12.1.105 (from torch->torchviz)\n",
            "  Downloading nvidia_cuda_runtime_cu12-12.1.105-py3-none-manylinux1_x86_64.whl (823 kB)\n",
            "\u001b[2K     \u001b[90m━━━━━━━━━━━━━━━━━━━━━━━━━━━━━━━━━━━━━━━━\u001b[0m \u001b[32m823.6/823.6 kB\u001b[0m \u001b[31m63.0 MB/s\u001b[0m eta \u001b[36m0:00:00\u001b[0m\n",
            "\u001b[?25hCollecting nvidia-cuda-cupti-cu12==12.1.105 (from torch->torchviz)\n",
            "  Downloading nvidia_cuda_cupti_cu12-12.1.105-py3-none-manylinux1_x86_64.whl (14.1 MB)\n",
            "\u001b[2K     \u001b[90m━━━━━━━━━━━━━━━━━━━━━━━━━━━━━━━━━━━━━━━━\u001b[0m \u001b[32m14.1/14.1 MB\u001b[0m \u001b[31m50.0 MB/s\u001b[0m eta \u001b[36m0:00:00\u001b[0m\n",
            "\u001b[?25hCollecting nvidia-cudnn-cu12==8.9.2.26 (from torch->torchviz)\n",
            "  Downloading nvidia_cudnn_cu12-8.9.2.26-py3-none-manylinux1_x86_64.whl (731.7 MB)\n",
            "\u001b[2K     \u001b[90m━━━━━━━━━━━━━━━━━━━━━━━━━━━━━━━━━━━━━━━━\u001b[0m \u001b[32m731.7/731.7 MB\u001b[0m \u001b[31m1.4 MB/s\u001b[0m eta \u001b[36m0:00:00\u001b[0m\n",
            "\u001b[?25hCollecting nvidia-cublas-cu12==12.1.3.1 (from torch->torchviz)\n",
            "  Downloading nvidia_cublas_cu12-12.1.3.1-py3-none-manylinux1_x86_64.whl (410.6 MB)\n",
            "\u001b[2K     \u001b[90m━━━━━━━━━━━━━━━━━━━━━━━━━━━━━━━━━━━━━━━━\u001b[0m \u001b[32m410.6/410.6 MB\u001b[0m \u001b[31m2.9 MB/s\u001b[0m eta \u001b[36m0:00:00\u001b[0m\n",
            "\u001b[?25hCollecting nvidia-cufft-cu12==11.0.2.54 (from torch->torchviz)\n",
            "  Downloading nvidia_cufft_cu12-11.0.2.54-py3-none-manylinux1_x86_64.whl (121.6 MB)\n",
            "\u001b[2K     \u001b[90m━━━━━━━━━━━━━━━━━━━━━━━━━━━━━━━━━━━━━━━━\u001b[0m \u001b[32m121.6/121.6 MB\u001b[0m \u001b[31m5.4 MB/s\u001b[0m eta \u001b[36m0:00:00\u001b[0m\n",
            "\u001b[?25hCollecting nvidia-curand-cu12==10.3.2.106 (from torch->torchviz)\n",
            "  Downloading nvidia_curand_cu12-10.3.2.106-py3-none-manylinux1_x86_64.whl (56.5 MB)\n",
            "\u001b[2K     \u001b[90m━━━━━━━━━━━━━━━━━━━━━━━━━━━━━━━━━━━━━━━━\u001b[0m \u001b[32m56.5/56.5 MB\u001b[0m \u001b[31m5.9 MB/s\u001b[0m eta \u001b[36m0:00:00\u001b[0m\n",
            "\u001b[?25hCollecting nvidia-cusolver-cu12==11.4.5.107 (from torch->torchviz)\n",
            "  Downloading nvidia_cusolver_cu12-11.4.5.107-py3-none-manylinux1_x86_64.whl (124.2 MB)\n",
            "\u001b[2K     \u001b[90m━━━━━━━━━━━━━━━━━━━━━━━━━━━━━━━━━━━━━━━━\u001b[0m \u001b[32m124.2/124.2 MB\u001b[0m \u001b[31m4.4 MB/s\u001b[0m eta \u001b[36m0:00:00\u001b[0m\n",
            "\u001b[?25hCollecting nvidia-cusparse-cu12==12.1.0.106 (from torch->torchviz)\n",
            "  Downloading nvidia_cusparse_cu12-12.1.0.106-py3-none-manylinux1_x86_64.whl (196.0 MB)\n",
            "\u001b[2K     \u001b[90m━━━━━━━━━━━━━━━━━━━━━━━━━━━━━━━━━━━━━━━━\u001b[0m \u001b[32m196.0/196.0 MB\u001b[0m \u001b[31m4.5 MB/s\u001b[0m eta \u001b[36m0:00:00\u001b[0m\n",
            "\u001b[?25hCollecting nvidia-nccl-cu12==2.19.3 (from torch->torchviz)\n",
            "  Downloading nvidia_nccl_cu12-2.19.3-py3-none-manylinux1_x86_64.whl (166.0 MB)\n",
            "\u001b[2K     \u001b[90m━━━━━━━━━━━━━━━━━━━━━━━━━━━━━━━━━━━━━━━━\u001b[0m \u001b[32m166.0/166.0 MB\u001b[0m \u001b[31m7.2 MB/s\u001b[0m eta \u001b[36m0:00:00\u001b[0m\n",
            "\u001b[?25hCollecting nvidia-nvtx-cu12==12.1.105 (from torch->torchviz)\n",
            "  Downloading nvidia_nvtx_cu12-12.1.105-py3-none-manylinux1_x86_64.whl (99 kB)\n",
            "\u001b[2K     \u001b[90m━━━━━━━━━━━━━━━━━━━━━━━━━━━━━━━━━━━━━━━━\u001b[0m \u001b[32m99.1/99.1 kB\u001b[0m \u001b[31m15.6 MB/s\u001b[0m eta \u001b[36m0:00:00\u001b[0m\n",
            "\u001b[?25hRequirement already satisfied: triton==2.2.0 in /usr/local/lib/python3.10/dist-packages (from torch->torchviz) (2.2.0)\n",
            "Collecting nvidia-nvjitlink-cu12 (from nvidia-cusolver-cu12==11.4.5.107->torch->torchviz)\n",
            "  Downloading nvidia_nvjitlink_cu12-12.4.99-py3-none-manylinux2014_x86_64.whl (21.1 MB)\n",
            "\u001b[2K     \u001b[90m━━━━━━━━━━━━━━━━━━━━━━━━━━━━━━━━━━━━━━━━\u001b[0m \u001b[32m21.1/21.1 MB\u001b[0m \u001b[31m30.2 MB/s\u001b[0m eta \u001b[36m0:00:00\u001b[0m\n",
            "\u001b[?25hRequirement already satisfied: MarkupSafe>=2.0 in /usr/local/lib/python3.10/dist-packages (from jinja2->torch->torchviz) (2.1.5)\n",
            "Requirement already satisfied: mpmath>=0.19 in /usr/local/lib/python3.10/dist-packages (from sympy->torch->torchviz) (1.3.0)\n",
            "Building wheels for collected packages: torchviz\n",
            "  Building wheel for torchviz (setup.py) ... \u001b[?25l\u001b[?25hdone\n",
            "  Created wheel for torchviz: filename=torchviz-0.0.2-py3-none-any.whl size=4132 sha256=1c92f3e747f52e4454af09f0fa609c478b3aa32b686a3cecc1ebfc3006973a61\n",
            "  Stored in directory: /root/.cache/pip/wheels/4c/97/88/a02973217949e0db0c9f4346d154085f4725f99c4f15a87094\n",
            "Successfully built torchviz\n",
            "Installing collected packages: nvidia-nvtx-cu12, nvidia-nvjitlink-cu12, nvidia-nccl-cu12, nvidia-curand-cu12, nvidia-cufft-cu12, nvidia-cuda-runtime-cu12, nvidia-cuda-nvrtc-cu12, nvidia-cuda-cupti-cu12, nvidia-cublas-cu12, nvidia-cusparse-cu12, nvidia-cudnn-cu12, nvidia-cusolver-cu12, torchviz\n",
            "Successfully installed nvidia-cublas-cu12-12.1.3.1 nvidia-cuda-cupti-cu12-12.1.105 nvidia-cuda-nvrtc-cu12-12.1.105 nvidia-cuda-runtime-cu12-12.1.105 nvidia-cudnn-cu12-8.9.2.26 nvidia-cufft-cu12-11.0.2.54 nvidia-curand-cu12-10.3.2.106 nvidia-cusolver-cu12-11.4.5.107 nvidia-cusparse-cu12-12.1.0.106 nvidia-nccl-cu12-2.19.3 nvidia-nvjitlink-cu12-12.4.99 nvidia-nvtx-cu12-12.1.105 torchviz-0.0.2\n"
          ]
        }
      ]
    },
    {
      "cell_type": "code",
      "metadata": {
        "id": "5zVVH_dkkaeq",
        "colab": {
          "base_uri": "https://localhost:8080/",
          "height": 764
        },
        "outputId": "114ff29e-6805-4f5e-a06a-469f7908d632"
      },
      "source": [
        "import torchviz\n",
        "torchviz.make_dot(loss)"
      ],
      "execution_count": 12,
      "outputs": [
        {
          "output_type": "execute_result",
          "data": {
            "image/svg+xml": "<?xml version=\"1.0\" encoding=\"UTF-8\" standalone=\"no\"?>\n<!DOCTYPE svg PUBLIC \"-//W3C//DTD SVG 1.1//EN\"\n \"http://www.w3.org/Graphics/SVG/1.1/DTD/svg11.dtd\">\n<!-- Generated by graphviz version 2.43.0 (0)\n -->\n<!-- Title: %3 Pages: 1 -->\n<svg width=\"222pt\" height=\"558pt\"\n viewBox=\"0.00 0.00 222.00 558.00\" xmlns=\"http://www.w3.org/2000/svg\" xmlns:xlink=\"http://www.w3.org/1999/xlink\">\n<g id=\"graph0\" class=\"graph\" transform=\"scale(1 1) rotate(0) translate(4 554)\">\n<title>%3</title>\n<polygon fill=\"white\" stroke=\"transparent\" points=\"-4,4 -4,-554 218,-554 218,4 -4,4\"/>\n<!-- 132247530499952 -->\n<g id=\"node1\" class=\"node\">\n<title>132247530499952</title>\n<polygon fill=\"#caff70\" stroke=\"black\" points=\"132.5,-31 78.5,-31 78.5,0 132.5,0 132.5,-31\"/>\n<text text-anchor=\"middle\" x=\"105.5\" y=\"-7\" font-family=\"monospace\" font-size=\"10.00\"> ()</text>\n</g>\n<!-- 132247530758560 -->\n<g id=\"node2\" class=\"node\">\n<title>132247530758560</title>\n<polygon fill=\"lightgrey\" stroke=\"black\" points=\"150,-86 61,-86 61,-67 150,-67 150,-86\"/>\n<text text-anchor=\"middle\" x=\"105.5\" y=\"-74\" font-family=\"monospace\" font-size=\"10.00\">NegBackward0</text>\n</g>\n<!-- 132247530758560&#45;&gt;132247530499952 -->\n<g id=\"edge12\" class=\"edge\">\n<title>132247530758560&#45;&gt;132247530499952</title>\n<path fill=\"none\" stroke=\"black\" d=\"M105.5,-66.79C105.5,-60.07 105.5,-50.4 105.5,-41.34\"/>\n<polygon fill=\"black\" stroke=\"black\" points=\"109,-41.19 105.5,-31.19 102,-41.19 109,-41.19\"/>\n</g>\n<!-- 132247530758176 -->\n<g id=\"node3\" class=\"node\">\n<title>132247530758176</title>\n<polygon fill=\"lightgrey\" stroke=\"black\" points=\"153,-141 58,-141 58,-122 153,-122 153,-141\"/>\n<text text-anchor=\"middle\" x=\"105.5\" y=\"-129\" font-family=\"monospace\" font-size=\"10.00\">MeanBackward0</text>\n</g>\n<!-- 132247530758176&#45;&gt;132247530758560 -->\n<g id=\"edge1\" class=\"edge\">\n<title>132247530758176&#45;&gt;132247530758560</title>\n<path fill=\"none\" stroke=\"black\" d=\"M105.5,-121.75C105.5,-114.8 105.5,-104.85 105.5,-96.13\"/>\n<polygon fill=\"black\" stroke=\"black\" points=\"109,-96.09 105.5,-86.09 102,-96.09 109,-96.09\"/>\n</g>\n<!-- 132247530758320 -->\n<g id=\"node4\" class=\"node\">\n<title>132247530758320</title>\n<polygon fill=\"lightgrey\" stroke=\"black\" points=\"156,-196 55,-196 55,-177 156,-177 156,-196\"/>\n<text text-anchor=\"middle\" x=\"105.5\" y=\"-184\" font-family=\"monospace\" font-size=\"10.00\">IndexBackward0</text>\n</g>\n<!-- 132247530758320&#45;&gt;132247530758176 -->\n<g id=\"edge2\" class=\"edge\">\n<title>132247530758320&#45;&gt;132247530758176</title>\n<path fill=\"none\" stroke=\"black\" d=\"M105.5,-176.75C105.5,-169.8 105.5,-159.85 105.5,-151.13\"/>\n<polygon fill=\"black\" stroke=\"black\" points=\"109,-151.09 105.5,-141.09 102,-151.09 109,-151.09\"/>\n</g>\n<!-- 132247530758416 -->\n<g id=\"node5\" class=\"node\">\n<title>132247530758416</title>\n<polygon fill=\"lightgrey\" stroke=\"black\" points=\"150,-251 61,-251 61,-232 150,-232 150,-251\"/>\n<text text-anchor=\"middle\" x=\"105.5\" y=\"-239\" font-family=\"monospace\" font-size=\"10.00\">SubBackward0</text>\n</g>\n<!-- 132247530758416&#45;&gt;132247530758320 -->\n<g id=\"edge3\" class=\"edge\">\n<title>132247530758416&#45;&gt;132247530758320</title>\n<path fill=\"none\" stroke=\"black\" d=\"M105.5,-231.75C105.5,-224.8 105.5,-214.85 105.5,-206.13\"/>\n<polygon fill=\"black\" stroke=\"black\" points=\"109,-206.09 105.5,-196.09 102,-206.09 109,-206.09\"/>\n</g>\n<!-- 132247530758032 -->\n<g id=\"node6\" class=\"node\">\n<title>132247530758032</title>\n<polygon fill=\"lightgrey\" stroke=\"black\" points=\"150,-361 61,-361 61,-342 150,-342 150,-361\"/>\n<text text-anchor=\"middle\" x=\"105.5\" y=\"-349\" font-family=\"monospace\" font-size=\"10.00\">AddBackward0</text>\n</g>\n<!-- 132247530758032&#45;&gt;132247530758416 -->\n<g id=\"edge4\" class=\"edge\">\n<title>132247530758032&#45;&gt;132247530758416</title>\n<path fill=\"none\" stroke=\"black\" d=\"M98.16,-341.68C89.02,-329.62 75.22,-307.17 80.5,-287 83.05,-277.26 88.25,-267.41 93.26,-259.46\"/>\n<polygon fill=\"black\" stroke=\"black\" points=\"96.19,-261.37 98.87,-251.12 90.39,-257.46 96.19,-261.37\"/>\n</g>\n<!-- 132247530758080 -->\n<g id=\"node12\" class=\"node\">\n<title>132247530758080</title>\n<polygon fill=\"lightgrey\" stroke=\"black\" points=\"214,-306 89,-306 89,-287 214,-287 214,-306\"/>\n<text text-anchor=\"middle\" x=\"151.5\" y=\"-294\" font-family=\"monospace\" font-size=\"10.00\">LogsumexpBackward0</text>\n</g>\n<!-- 132247530758032&#45;&gt;132247530758080 -->\n<g id=\"edge11\" class=\"edge\">\n<title>132247530758032&#45;&gt;132247530758080</title>\n<path fill=\"none\" stroke=\"black\" d=\"M113.1,-341.75C119.66,-334.18 129.32,-323.05 137.31,-313.84\"/>\n<polygon fill=\"black\" stroke=\"black\" points=\"140.13,-315.94 144.05,-306.09 134.85,-311.35 140.13,-315.94\"/>\n</g>\n<!-- 132247530757888 -->\n<g id=\"node7\" class=\"node\">\n<title>132247530757888</title>\n<polygon fill=\"lightgrey\" stroke=\"black\" points=\"92,-416 9,-416 9,-397 92,-397 92,-416\"/>\n<text text-anchor=\"middle\" x=\"50.5\" y=\"-404\" font-family=\"monospace\" font-size=\"10.00\">MmBackward0</text>\n</g>\n<!-- 132247530757888&#45;&gt;132247530758032 -->\n<g id=\"edge5\" class=\"edge\">\n<title>132247530757888&#45;&gt;132247530758032</title>\n<path fill=\"none\" stroke=\"black\" d=\"M59.58,-396.75C67.59,-389.03 79.46,-377.6 89.12,-368.28\"/>\n<polygon fill=\"black\" stroke=\"black\" points=\"91.81,-370.55 96.59,-361.09 86.96,-365.51 91.81,-370.55\"/>\n</g>\n<!-- 132247530757744 -->\n<g id=\"node8\" class=\"node\">\n<title>132247530757744</title>\n<polygon fill=\"lightgrey\" stroke=\"black\" points=\"101,-477 0,-477 0,-458 101,-458 101,-477\"/>\n<text text-anchor=\"middle\" x=\"50.5\" y=\"-465\" font-family=\"monospace\" font-size=\"10.00\">AccumulateGrad</text>\n</g>\n<!-- 132247530757744&#45;&gt;132247530757888 -->\n<g id=\"edge6\" class=\"edge\">\n<title>132247530757744&#45;&gt;132247530757888</title>\n<path fill=\"none\" stroke=\"black\" d=\"M50.5,-457.79C50.5,-449.6 50.5,-437.06 50.5,-426.55\"/>\n<polygon fill=\"black\" stroke=\"black\" points=\"54,-426.24 50.5,-416.24 47,-426.24 54,-426.24\"/>\n</g>\n<!-- 132247565621248 -->\n<g id=\"node9\" class=\"node\">\n<title>132247565621248</title>\n<polygon fill=\"lightblue\" stroke=\"black\" points=\"89,-550 12,-550 12,-519 89,-519 89,-550\"/>\n<text text-anchor=\"middle\" x=\"50.5\" y=\"-526\" font-family=\"monospace\" font-size=\"10.00\"> (784, 10)</text>\n</g>\n<!-- 132247565621248&#45;&gt;132247530757744 -->\n<g id=\"edge7\" class=\"edge\">\n<title>132247565621248&#45;&gt;132247530757744</title>\n<path fill=\"none\" stroke=\"black\" d=\"M50.5,-518.75C50.5,-509.39 50.5,-497.19 50.5,-487.16\"/>\n<polygon fill=\"black\" stroke=\"black\" points=\"54,-487.02 50.5,-477.02 47,-487.02 54,-487.02\"/>\n</g>\n<!-- 132247530757936 -->\n<g id=\"node10\" class=\"node\">\n<title>132247530757936</title>\n<polygon fill=\"lightgrey\" stroke=\"black\" points=\"211,-416 110,-416 110,-397 211,-397 211,-416\"/>\n<text text-anchor=\"middle\" x=\"160.5\" y=\"-404\" font-family=\"monospace\" font-size=\"10.00\">AccumulateGrad</text>\n</g>\n<!-- 132247530757936&#45;&gt;132247530758032 -->\n<g id=\"edge8\" class=\"edge\">\n<title>132247530757936&#45;&gt;132247530758032</title>\n<path fill=\"none\" stroke=\"black\" d=\"M151.42,-396.75C143.41,-389.03 131.54,-377.6 121.88,-368.28\"/>\n<polygon fill=\"black\" stroke=\"black\" points=\"124.04,-365.51 114.41,-361.09 119.19,-370.55 124.04,-365.51\"/>\n</g>\n<!-- 132247530503152 -->\n<g id=\"node11\" class=\"node\">\n<title>132247530503152</title>\n<polygon fill=\"lightblue\" stroke=\"black\" points=\"187.5,-483 133.5,-483 133.5,-452 187.5,-452 187.5,-483\"/>\n<text text-anchor=\"middle\" x=\"160.5\" y=\"-459\" font-family=\"monospace\" font-size=\"10.00\"> (10)</text>\n</g>\n<!-- 132247530503152&#45;&gt;132247530757936 -->\n<g id=\"edge9\" class=\"edge\">\n<title>132247530503152&#45;&gt;132247530757936</title>\n<path fill=\"none\" stroke=\"black\" d=\"M160.5,-451.92C160.5,-444.22 160.5,-434.69 160.5,-426.43\"/>\n<polygon fill=\"black\" stroke=\"black\" points=\"164,-426.25 160.5,-416.25 157,-426.25 164,-426.25\"/>\n</g>\n<!-- 132247530758080&#45;&gt;132247530758416 -->\n<g id=\"edge10\" class=\"edge\">\n<title>132247530758080&#45;&gt;132247530758416</title>\n<path fill=\"none\" stroke=\"black\" d=\"M143.9,-286.75C137.34,-279.18 127.68,-268.05 119.69,-258.84\"/>\n<polygon fill=\"black\" stroke=\"black\" points=\"122.15,-256.35 112.95,-251.09 116.87,-260.94 122.15,-256.35\"/>\n</g>\n</g>\n</svg>\n",
            "text/plain": [
              "<graphviz.graphs.Digraph at 0x78474717e1d0>"
            ]
          },
          "metadata": {},
          "execution_count": 12
        }
      ]
    },
    {
      "cell_type": "markdown",
      "metadata": {
        "id": "BwJ-5hG7mTOL"
      },
      "source": [
        "We can actually inspect tensors to see that each non-leaf variable tensor records its gradient function based on how it was obtained."
      ]
    },
    {
      "cell_type": "code",
      "metadata": {
        "id": "gbRLFWkWmUY8",
        "colab": {
          "base_uri": "https://localhost:8080/"
        },
        "outputId": "01a8d0a7-7c2f-402b-8b13-d24f0246c726"
      },
      "source": [
        "print(b.grad_fn)    # leaf variable\n",
        "print(loss.grad_fn)\n",
        "print(x_b.grad_fn)  # not a variable"
      ],
      "execution_count": 13,
      "outputs": [
        {
          "output_type": "stream",
          "name": "stdout",
          "text": [
            "None\n",
            "<NegBackward0 object at 0x78474717e1a0>\n",
            "None\n"
          ]
        }
      ]
    },
    {
      "cell_type": "markdown",
      "metadata": {
        "id": "0u88oEuRSZAG"
      },
      "source": [
        "### Using `autograd.grad` to Compute Gradients\n",
        "We can now use reverse-mode automatic differentiation to compute the gradient of the loss with respect to our parameters!"
      ]
    },
    {
      "cell_type": "code",
      "metadata": {
        "id": "a4IuGz-vNru5",
        "colab": {
          "base_uri": "https://localhost:8080/"
        },
        "outputId": "9a1f3fd4-eb8d-47ba-8fb5-11af7f857600"
      },
      "source": [
        "from torch import autograd\n",
        "loss = loss_fn(W, b, x_b, y_b)\n",
        "W_grad, b_grad = autograd.grad(loss, inputs=(W, b))\n",
        "print(b_grad)"
      ],
      "execution_count": 14,
      "outputs": [
        {
          "output_type": "stream",
          "name": "stdout",
          "text": [
            "tensor([ 0.0746, -0.0701,  0.1698, -0.0830, -0.1250,  0.1362, -0.0598, -0.0685,\n",
            "         0.1545, -0.1288])\n"
          ]
        }
      ]
    },
    {
      "cell_type": "markdown",
      "metadata": {
        "id": "I1U8J8ujfoSp"
      },
      "source": [
        "We're now ready to optimize our linear MNIST model. Each iteration consists of the following steps:\n",
        "* Sample a batch of training data.\n",
        "* Compute the logits from the inputs using the model parameters.\n",
        "* Compute a scalar loss from the logits and labels.\n",
        "* Compute the gradient of the loss with respect to the parameters.\n",
        "* Update the model parameters using the gradient.\n",
        "\n",
        "Note that the last step is done in a context manager that disables the construction of the computation graph.\n",
        "\n",
        "To check whether our optimization was successful, we'll look at the accuracy on the training data before and after."
      ]
    },
    {
      "cell_type": "code",
      "metadata": {
        "id": "iABo_4DPoInh",
        "colab": {
          "base_uri": "https://localhost:8080/"
        },
        "outputId": "74228936-c6a3-406f-e093-bface4885629"
      },
      "source": [
        "lr = 0.5\n",
        "num_epochs = 2\n",
        "\n",
        "def train(W, b):\n",
        "    print(f'accuracy before: {accuracy(logits(x_train, W, b), y_train)}')\n",
        "\n",
        "    for i_epoch in range(num_epochs):\n",
        "        i_batch_start = 0\n",
        "        while i_batch_start + batch_size < x_train.shape[0]:\n",
        "            x_b = x_train[i_batch_start:i_batch_start + batch_size]\n",
        "            y_b = y_train[i_batch_start:i_batch_start + batch_size]\n",
        "            i_batch_start += batch_size\n",
        "\n",
        "            logit_b = logits(x_b, W, b)\n",
        "            logp_b = log_softmax(logit_b)\n",
        "            loss = negative_log_likelihood(logp_b, y_b)\n",
        "            W_grad, b_grad = autograd.grad(loss, inputs=(W, b))\n",
        "\n",
        "            with torch.no_grad():   # we don't need gradients for this\n",
        "                W -= lr * W_grad\n",
        "                b -= lr * b_grad\n",
        "\n",
        "    print(f'accuracy after: {accuracy(logits(x_train, W, b), y_train)}')\n",
        "\n",
        "W = torch.randn(784, 10, requires_grad=True)\n",
        "b = torch.randn(10, requires_grad=True)\n",
        "train(W, b)"
      ],
      "execution_count": 15,
      "outputs": [
        {
          "output_type": "stream",
          "name": "stdout",
          "text": [
            "accuracy before: 0.08083999902009964\n",
            "accuracy after: 0.8863400220870972\n"
          ]
        }
      ]
    },
    {
      "cell_type": "markdown",
      "metadata": {
        "id": "sYArnyJ_nDCt"
      },
      "source": [
        "### Using `backward` to Compute Gradients\n",
        "An alternative to using `autograd.grad` is to call `backward()` on the loss tensor. This _accumulates_ gradients of leaf tensors into their `grad` attribute. (Note that with this we don't need to specify the variables we're taking the gradient with respect to, nor do we obtain the gradients as output from the function call.)\n",
        "\n",
        "When we're done using a gradient in a `grad` attribute, we should reset it to 0, else repeated accumulations may occur. We can do this with the `Tensor` method `zero_()`. (Note that the `_` signifies that the operation modifies the tensor in-place.)"
      ]
    },
    {
      "cell_type": "code",
      "metadata": {
        "id": "Ta5qt6V1kPAE",
        "colab": {
          "base_uri": "https://localhost:8080/"
        },
        "outputId": "993397b9-9dfb-4cce-b522-7bc6ec4dab82"
      },
      "source": [
        "print('before computing gradients')\n",
        "print(b.grad)\n",
        "\n",
        "loss = loss_fn(W, b, x_b, y_b)\n",
        "loss.backward()\n",
        "print('after forward pass and calling backward()')\n",
        "print(b.grad)\n",
        "\n",
        "loss = loss_fn(W, b, x_b, y_b)\n",
        "loss.backward()\n",
        "print('after another forward pass and calling backward() again')\n",
        "print(b.grad)\n",
        "\n",
        "b.grad.zero_()\n",
        "print('after calling zero_()')\n",
        "print(b.grad)"
      ],
      "execution_count": 17,
      "outputs": [
        {
          "output_type": "stream",
          "name": "stdout",
          "text": [
            "before computing gradients\n",
            "tensor([0., 0., 0., 0., 0., 0., 0., 0., 0., 0.])\n",
            "after forward pass and calling backward()\n",
            "tensor([-0.0025, -0.0040, -0.0178,  0.0232, -0.0202,  0.0229, -0.0104,  0.0310,\n",
            "         0.0045, -0.0267])\n",
            "after another forward pass and calling backward() again\n",
            "tensor([-0.0050, -0.0080, -0.0355,  0.0463, -0.0404,  0.0458, -0.0207,  0.0619,\n",
            "         0.0091, -0.0535])\n",
            "after calling zero_()\n",
            "tensor([0., 0., 0., 0., 0., 0., 0., 0., 0., 0.])\n"
          ]
        }
      ]
    },
    {
      "cell_type": "markdown",
      "metadata": {
        "id": "I9gxa-qsSc0i"
      },
      "source": [
        "When should you use `autograd.grad` vs. `backward`? In general, `backward` is more convenient, but there are times when you need more fine-grained control over gradient computation. Let's see what the training code looks like when we use `backward`:"
      ]
    },
    {
      "cell_type": "code",
      "metadata": {
        "id": "iYhQfdJDLJyj",
        "colab": {
          "base_uri": "https://localhost:8080/"
        },
        "outputId": "d59c3ad2-1ecf-4bc0-a789-48aecc58a800"
      },
      "source": [
        "def train(W, b):\n",
        "    print(f'accuracy before: {accuracy(logits(x_train, W, b), y_train)}')\n",
        "\n",
        "    for i_epoch in range(num_epochs):\n",
        "        i_batch_start = 0\n",
        "        while i_batch_start + batch_size < x_train.shape[0]:\n",
        "            x_b = x_train[i_batch_start:i_batch_start + batch_size]\n",
        "            y_b = y_train[i_batch_start:i_batch_start + batch_size]\n",
        "            i_batch_start += batch_size\n",
        "\n",
        "            logit_b = logits(x_b, W, b)\n",
        "            logp_b = log_softmax(logit_b)\n",
        "            loss = negative_log_likelihood(logp_b, y_b)\n",
        "            loss.backward()\n",
        "\n",
        "            with torch.no_grad():\n",
        "                W -= lr * W.grad\n",
        "                b -= lr * b.grad\n",
        "                W.grad.zero_()\n",
        "                b.grad.zero_()\n",
        "\n",
        "    print(f'accuracy after: {accuracy(logits(x_train, W, b), y_train)}')\n",
        "\n",
        "W = torch.randn(784, 10, requires_grad=True)\n",
        "b = torch.randn(10, requires_grad=True)\n",
        "train(W, b)"
      ],
      "execution_count": 18,
      "outputs": [
        {
          "output_type": "stream",
          "name": "stdout",
          "text": [
            "accuracy before: 0.0919400006532669\n",
            "accuracy after: 0.8819599747657776\n"
          ]
        }
      ]
    },
    {
      "cell_type": "markdown",
      "metadata": {
        "id": "v1MUJ0cfxD58"
      },
      "source": [
        "### `nn.functional`\n",
        "Now, let's refactor and extend our training code by allowing ourselves to use other `torch` modules. We'll first look at `torch.nn`.\n",
        "\n",
        "`nn.functional` (commonly abbreviated as just `F`) includes many useful functions, e.g. loss functions and activation functions. In particular, `F.cross_entropy` combines the `log_softmax` and `negative_log_likelihood` functions into one.\n",
        "\n",
        "If you're used to using TensorFlow's [CategoricalCrossentropy loss](https://www.tensorflow.org/api_docs/python/tf/keras/losses/CategoricalCrossentropy), note that `F.cross_entropy` takes integer labels, not one-hot labels"
      ]
    },
    {
      "cell_type": "code",
      "metadata": {
        "id": "5A2M3dY4xpfs",
        "colab": {
          "base_uri": "https://localhost:8080/"
        },
        "outputId": "a0ff9fe1-9a51-4746-9b03-4f255e1e1ab5"
      },
      "source": [
        "import torch.nn as nn\n",
        "import torch.nn.functional as F\n",
        "\n",
        "with torch.no_grad():\n",
        "    logit_b = logits(x_b, W, b)\n",
        "    print(negative_log_likelihood(log_softmax(logit_b), y_b))\n",
        "    print(F.cross_entropy(logit_b, y_b))"
      ],
      "execution_count": 19,
      "outputs": [
        {
          "output_type": "stream",
          "name": "stdout",
          "text": [
            "tensor(0.2463)\n",
            "tensor(0.2463)\n"
          ]
        }
      ]
    },
    {
      "cell_type": "markdown",
      "metadata": {
        "id": "I91UsJOmyv1b"
      },
      "source": [
        "### `nn.Module`\n",
        "`nn.Module` is a useful class that corresponds loosely to an intuitive notion of a parameterized model. It\n",
        "* registers `nn.Parameter`s, which are essentially variable tensors, as attributes\n",
        "* holds as the `forward` method the model's forward pass"
      ]
    },
    {
      "cell_type": "code",
      "metadata": {
        "id": "MIN1V4b7yvGF"
      },
      "source": [
        "class MNISTLinear(nn.Module):\n",
        "    def __init__(self):\n",
        "        super().__init__()\n",
        "        self.W = nn.Parameter(torch.randn(784, 10))\n",
        "        self.b = nn.Parameter(torch.randn(10))\n",
        "\n",
        "    def forward(self, x_b):\n",
        "        return x_b @ self.W + self.b"
      ],
      "execution_count": 20,
      "outputs": []
    },
    {
      "cell_type": "markdown",
      "metadata": {
        "id": "Mpd724uU3Vkg"
      },
      "source": [
        "Using the `nn.Module` can be very convenient. For example, previously we had to manually zero the `grad` attribute of `W` and `b`. We can now use the `parameters` method, which returns an iterator over module parameters, and the `zero_grad` method, which zeros the `grad` attribute of every module parameter.\n",
        "\n",
        "After substituting code for the model forward pass, the loss computation, the optimization step, and the gradient zeroing, the training code now looks like this:"
      ]
    },
    {
      "cell_type": "code",
      "metadata": {
        "id": "5SJlK8y24BHn",
        "colab": {
          "base_uri": "https://localhost:8080/"
        },
        "outputId": "882e750e-b51c-4397-8e2f-9d696ac0ac33"
      },
      "source": [
        "def train(model):\n",
        "    print(f'accuracy before: {accuracy(model(x_train), y_train)}')\n",
        "\n",
        "    for i_epoch in range(num_epochs):\n",
        "        i_batch_start = 0\n",
        "        while i_batch_start + batch_size < x_train.shape[0]:\n",
        "            x_b = x_train[i_batch_start:i_batch_start + batch_size]\n",
        "            y_b = y_train[i_batch_start:i_batch_start + batch_size]\n",
        "            i_batch_start += batch_size\n",
        "\n",
        "            logit_b = model(x_b)    # an nn.Module is callable\n",
        "            loss = F.cross_entropy(logit_b, y_b)\n",
        "            loss.backward()\n",
        "\n",
        "            with torch.no_grad():\n",
        "                for p in model.parameters():\n",
        "                    p -= lr * p.grad\n",
        "                model.zero_grad()\n",
        "\n",
        "    print(f'accuracy after: {accuracy(model(x_train), y_train)}')\n",
        "\n",
        "train(MNISTLinear())"
      ],
      "execution_count": 21,
      "outputs": [
        {
          "output_type": "stream",
          "name": "stdout",
          "text": [
            "accuracy before: 0.12912000715732574\n",
            "accuracy after: 0.8778799772262573\n"
          ]
        }
      ]
    },
    {
      "cell_type": "markdown",
      "metadata": {
        "id": "czAS_2oo4qrP"
      },
      "source": [
        "`nn` contains many `nn.Module` subclasses that correspond to commonly used chunks of computation. One such \"layer\" is the linear model we've been using! We can replace our `MNISTLinear` class with an `nn.Linear`."
      ]
    },
    {
      "cell_type": "code",
      "metadata": {
        "id": "Ed2QkQ768CLI",
        "colab": {
          "base_uri": "https://localhost:8080/"
        },
        "outputId": "e61c23bb-11d1-458e-ec2a-b5a30d63d677"
      },
      "source": [
        "train(nn.Linear(784, 10))"
      ],
      "execution_count": 22,
      "outputs": [
        {
          "output_type": "stream",
          "name": "stdout",
          "text": [
            "accuracy before: 0.12309999763965607\n",
            "accuracy after: 0.9118199944496155\n"
          ]
        }
      ]
    },
    {
      "cell_type": "markdown",
      "metadata": {
        "id": "B2qhStDy8lrP"
      },
      "source": [
        "Our optimization went differently in 2 epochs this time around. This is probably because the parameters in `nn.Linear` are [initialized slightly differently](https://pytorch.org/docs/stable/generated/torch.nn.Linear.html). It's always important to read documentation!"
      ]
    },
    {
      "cell_type": "markdown",
      "metadata": {
        "id": "hkOLJWAH8zYD"
      },
      "source": [
        "### MNIST MLP\n",
        "What if we want to use a two-layer fully-connected network? `nn.Module`s can register `nn.Module` attributes!"
      ]
    },
    {
      "cell_type": "code",
      "metadata": {
        "id": "60V-yAKM5m00",
        "colab": {
          "base_uri": "https://localhost:8080/"
        },
        "outputId": "3fe26b88-0e72-4986-b2fd-3b796bc93d39"
      },
      "source": [
        "class MNISTMLP(nn.Module):\n",
        "    def __init__(self):\n",
        "        super().__init__()\n",
        "        self.linear1 = nn.Linear(784, 64)\n",
        "        self.activation = nn.ReLU()\n",
        "        self.linear2 = nn.Linear(64, 10)\n",
        "\n",
        "    def forward(self, x_b):\n",
        "        return self.linear2(self.activation(self.linear1(x_b)))\n",
        "        # return self.linear2(F.relu(self.linear1(x_b)))\n",
        "\n",
        "train(MNISTMLP())"
      ],
      "execution_count": 23,
      "outputs": [
        {
          "output_type": "stream",
          "name": "stdout",
          "text": [
            "accuracy before: 0.09009999781847\n",
            "accuracy after: 0.9569200277328491\n"
          ]
        }
      ]
    },
    {
      "cell_type": "code",
      "source": [
        "new_model = nn.Sequential(\n",
        "    nn.Linear(784, 64),\n",
        "    nn.ReLU(),    ## (c.f., F.relu) nn.ReLU() is more commonly used when defining layers in a sequential model or when you want to include non-linearities as explicit layers.\n",
        "    nn.Linear(64, 10)\n",
        ")"
      ],
      "metadata": {
        "id": "oo28kG2KABLp"
      },
      "execution_count": 24,
      "outputs": []
    },
    {
      "cell_type": "markdown",
      "source": [
        "##Saving/Loading pre-trained weights\n",
        "Sometimes multiple people may have to use the same network. It can take a lot of time for everyone to train their network from scratch. It is environmentally also disastrous as the carbon footprint of training large networks is very huge.\n",
        "\n",
        "It would be better if we could train and save weights for our network, and reuse them later if we need to. PyTorch gives us ways to do this easily!"
      ],
      "metadata": {
        "id": "eG2yPUjhYzzx"
      }
    },
    {
      "cell_type": "code",
      "source": [
        "network = MNISTMLP()\n",
        "train(network)\n",
        "\n",
        "torch.save(network.state_dict(), \"network.pt\") # 모델의 weight를 저장"
      ],
      "metadata": {
        "id": "BjZ2iBpbbPDS",
        "colab": {
          "base_uri": "https://localhost:8080/"
        },
        "outputId": "5b55ebc6-8f43-4294-b419-a7802bbd279a"
      },
      "execution_count": 25,
      "outputs": [
        {
          "output_type": "stream",
          "name": "stdout",
          "text": [
            "accuracy before: 0.10016000270843506\n",
            "accuracy after: 0.9534000158309937\n"
          ]
        }
      ]
    },
    {
      "cell_type": "markdown",
      "source": [
        "The above code saves the network's weights to the given path, in this case \"network.pt\". Now we will show that loading the model's weight without retraining it from scratch retrieves prior performance."
      ],
      "metadata": {
        "id": "9Ew8Ken2b4He"
      }
    },
    {
      "cell_type": "code",
      "source": [
        "network = MNISTMLP()\n",
        "print(f'accuracy of initialized network: {accuracy(network(x_train), y_train)}')\n",
        "\n",
        "network.load_state_dict(torch.load(\"network.pt\")) # 모델의 weight를 불러오기\n",
        "print(f'accuracy after loading weights: {accuracy(network(x_train), y_train)}')"
      ],
      "metadata": {
        "id": "4doKE58-cJV3",
        "colab": {
          "base_uri": "https://localhost:8080/"
        },
        "outputId": "b08aaa03-fa18-4cc6-baf0-216c53775c09"
      },
      "execution_count": 26,
      "outputs": [
        {
          "output_type": "stream",
          "name": "stdout",
          "text": [
            "accuracy of initialized network: 0.09544000029563904\n",
            "accuracy after loading weights: 0.9534000158309937\n"
          ]
        }
      ]
    },
    {
      "cell_type": "markdown",
      "metadata": {
        "id": "FYXTLH477ooG"
      },
      "source": [
        "### Are You Registered?\n",
        "`nn.Module`s [have some specific rules](https://pytorch.org/docs/stable/generated/torch.nn.Module.html) regarding what attributes are properly registered (i.e. identified as part of the model). We've seen that `nn.Parameter`s and `nn.Module`s are, but most Python objects are not. For example, you might consider it cleaner to implement the `MNISTMLP` this way:"
      ]
    },
    {
      "cell_type": "code",
      "metadata": {
        "id": "8sIQ_XOf-NM1",
        "colab": {
          "base_uri": "https://localhost:8080/"
        },
        "outputId": "03053a3f-3bd9-4c91-bbce-341498c6c598"
      },
      "source": [
        "class MNISTMLP(nn.Module):\n",
        "    def __init__(self):\n",
        "        super().__init__()\n",
        "        self.layers = [\n",
        "            nn.Linear(784, 64),\n",
        "            nn.ReLU(),\n",
        "            nn.Linear(64, 10)\n",
        "        ]\n",
        "\n",
        "    def forward(self, x_b):\n",
        "        for layer in self.layers:\n",
        "            x_b = layer(x_b)\n",
        "        return x_b\n",
        "\n",
        "train(MNISTMLP())\n",
        "print(list(MNISTMLP().parameters()))"
      ],
      "execution_count": 27,
      "outputs": [
        {
          "output_type": "stream",
          "name": "stdout",
          "text": [
            "accuracy before: 0.0674000009894371\n",
            "accuracy after: 0.0674000009894371\n",
            "[]\n"
          ]
        }
      ]
    },
    {
      "cell_type": "markdown",
      "metadata": {
        "id": "Mn3Ogmn4-umv"
      },
      "source": [
        "Uh oh! Even though the `layers` list has `nn.Module`s, it itself wasn't recognized as a registerable attribute. To get around this, we have the `nn.ModuleList`:"
      ]
    },
    {
      "cell_type": "code",
      "metadata": {
        "id": "IA21B41t-7fL",
        "colab": {
          "base_uri": "https://localhost:8080/"
        },
        "outputId": "b73442c6-ebf7-48c5-ee08-7518dd7f4268"
      },
      "source": [
        "class MNISTMLP(nn.Module):\n",
        "    def __init__(self):\n",
        "        super().__init__()\n",
        "        self.layers = nn.ModuleList([\n",
        "            nn.Linear(784, 64),\n",
        "            nn.ReLU(),\n",
        "            nn.Linear(64, 10)\n",
        "        ])\n",
        "\n",
        "    def forward(self, x_b):\n",
        "        for layer in self.layers:\n",
        "            x_b = layer(x_b)\n",
        "        return x_b\n",
        "\n",
        "train(MNISTMLP())\n",
        "print(list(MNISTMLP().parameters())) # 파라미터 찍어보기"
      ],
      "execution_count": 29,
      "outputs": [
        {
          "output_type": "stream",
          "name": "stdout",
          "text": [
            "accuracy before: 0.10406000167131424\n",
            "accuracy after: 0.9625999927520752\n",
            "[Parameter containing:\n",
            "tensor([[-0.0060,  0.0315,  0.0357,  ..., -0.0164, -0.0141,  0.0228],\n",
            "        [-0.0308, -0.0334, -0.0243,  ..., -0.0087,  0.0349,  0.0282],\n",
            "        [ 0.0005, -0.0089, -0.0033,  ..., -0.0028,  0.0133,  0.0283],\n",
            "        ...,\n",
            "        [-0.0016, -0.0181, -0.0087,  ..., -0.0013,  0.0157, -0.0043],\n",
            "        [ 0.0265, -0.0186, -0.0065,  ..., -0.0255,  0.0014, -0.0240],\n",
            "        [ 0.0064,  0.0149, -0.0074,  ...,  0.0036, -0.0333,  0.0090]],\n",
            "       requires_grad=True), Parameter containing:\n",
            "tensor([-0.0208, -0.0031, -0.0242, -0.0062, -0.0131, -0.0129, -0.0346, -0.0218,\n",
            "         0.0111,  0.0219,  0.0058,  0.0165,  0.0083, -0.0196, -0.0254, -0.0319,\n",
            "        -0.0222,  0.0242,  0.0030, -0.0190, -0.0275, -0.0347, -0.0309,  0.0108,\n",
            "         0.0130,  0.0230, -0.0258,  0.0176,  0.0297, -0.0062, -0.0076, -0.0008,\n",
            "        -0.0217, -0.0341, -0.0024,  0.0308,  0.0171,  0.0024, -0.0030, -0.0129,\n",
            "        -0.0302, -0.0143, -0.0033,  0.0075,  0.0294,  0.0027, -0.0059, -0.0315,\n",
            "        -0.0276,  0.0251,  0.0005, -0.0203,  0.0098,  0.0181,  0.0316, -0.0106,\n",
            "        -0.0192,  0.0218,  0.0262, -0.0070, -0.0218, -0.0291, -0.0054,  0.0098],\n",
            "       requires_grad=True), Parameter containing:\n",
            "tensor([[ 0.1144,  0.0959, -0.1000, -0.0744,  0.0568,  0.0995, -0.1119,  0.0547,\n",
            "          0.0810,  0.0084,  0.0820, -0.0148,  0.0900,  0.0304,  0.0438,  0.0141,\n",
            "         -0.0618,  0.0019,  0.0608, -0.0375,  0.0870, -0.0997, -0.0615,  0.0543,\n",
            "         -0.0155, -0.0791,  0.0411,  0.1190,  0.0613, -0.1144,  0.0503, -0.0767,\n",
            "         -0.0538, -0.0567,  0.0804, -0.0160, -0.1145, -0.1224, -0.0633, -0.0349,\n",
            "         -0.0201,  0.1195, -0.0402, -0.0870, -0.0731, -0.0302,  0.0536, -0.0646,\n",
            "          0.0148,  0.0606,  0.0332,  0.0711, -0.0047, -0.0359,  0.0243,  0.0183,\n",
            "          0.0991, -0.0771, -0.1102, -0.0117,  0.0088, -0.0008, -0.1203,  0.0509],\n",
            "        [ 0.0990, -0.0112,  0.1219,  0.0180,  0.0861, -0.0491, -0.0426,  0.1032,\n",
            "         -0.0523, -0.0858, -0.1237, -0.0638,  0.0385, -0.0633,  0.0631,  0.0785,\n",
            "          0.0549,  0.0205,  0.1075,  0.0555,  0.1142, -0.0369, -0.0115,  0.0070,\n",
            "          0.0206, -0.0454,  0.0022,  0.0538, -0.1027, -0.0531,  0.0237, -0.0980,\n",
            "          0.0857,  0.1203, -0.0628, -0.0192,  0.1212,  0.0974,  0.0262,  0.0786,\n",
            "          0.0549,  0.0635, -0.0385,  0.0084, -0.0974, -0.1233, -0.0866, -0.0051,\n",
            "          0.0615, -0.1003, -0.1111,  0.0916,  0.0614,  0.0391, -0.1157,  0.0176,\n",
            "          0.0636, -0.0701,  0.0297,  0.0297, -0.0802, -0.0888, -0.0845,  0.0091],\n",
            "        [-0.0930, -0.0420,  0.0617, -0.0610, -0.1245, -0.0474,  0.0012,  0.0422,\n",
            "          0.0926, -0.0113,  0.0857, -0.0270, -0.0057, -0.0742, -0.1138,  0.0134,\n",
            "          0.1137, -0.0276,  0.0632, -0.0799,  0.0435, -0.0719,  0.0355,  0.0736,\n",
            "         -0.0592, -0.0569, -0.0987, -0.0439, -0.0609,  0.0540, -0.0716, -0.0909,\n",
            "         -0.1097,  0.0789,  0.0241,  0.0377, -0.0697, -0.0859,  0.0369, -0.0610,\n",
            "         -0.0121, -0.1225,  0.1051,  0.0291,  0.1022, -0.0862,  0.0585,  0.0706,\n",
            "         -0.0771,  0.0314, -0.0035,  0.1052, -0.0754,  0.0190, -0.1080,  0.0194,\n",
            "          0.0730, -0.0235,  0.0077, -0.0593,  0.0275, -0.1160,  0.0093, -0.0854],\n",
            "        [ 0.1027,  0.1081,  0.1049, -0.0424, -0.0506,  0.0154, -0.0557, -0.0942,\n",
            "          0.1103, -0.0386,  0.0211, -0.0579,  0.0129,  0.1033,  0.1227,  0.0410,\n",
            "         -0.1186,  0.1119,  0.0694,  0.0468,  0.0173, -0.0630, -0.0204, -0.0940,\n",
            "          0.0217, -0.0249,  0.0878, -0.1020,  0.0591,  0.0752,  0.0752,  0.0794,\n",
            "         -0.0775, -0.0639, -0.0372,  0.1013, -0.0161,  0.0322, -0.1079,  0.0500,\n",
            "          0.0981, -0.0115, -0.0662,  0.0313, -0.0417,  0.0450,  0.0690, -0.1180,\n",
            "         -0.1188,  0.0259, -0.1059,  0.0834, -0.1221, -0.0042, -0.1248, -0.1140,\n",
            "         -0.0769, -0.0973,  0.0926,  0.0517,  0.0336,  0.0510,  0.1181, -0.1237],\n",
            "        [-0.0534,  0.0274, -0.0341,  0.0771, -0.0608, -0.0609, -0.0912, -0.0714,\n",
            "         -0.0505,  0.0623, -0.0840, -0.0522,  0.0147,  0.0477, -0.0252,  0.0338,\n",
            "         -0.1054,  0.0463, -0.0394,  0.0479, -0.0783,  0.1221,  0.0703,  0.0277,\n",
            "         -0.0770, -0.0956, -0.0780, -0.0923, -0.1011, -0.0756,  0.0605, -0.0987,\n",
            "         -0.0080,  0.0627, -0.0181, -0.0168, -0.0789,  0.1196, -0.0400, -0.0664,\n",
            "         -0.1016, -0.0552, -0.0580,  0.0536, -0.0351, -0.0701,  0.0273,  0.0753,\n",
            "          0.0268, -0.0788, -0.0865,  0.0696, -0.1022,  0.1249, -0.1203, -0.0724,\n",
            "          0.0165, -0.0891,  0.0443,  0.0811, -0.0262,  0.1105,  0.0035,  0.0633],\n",
            "        [-0.0745, -0.1165, -0.0892, -0.0936, -0.0648, -0.0426,  0.0718,  0.0320,\n",
            "          0.1117, -0.0550, -0.0153,  0.1007,  0.0901, -0.0096, -0.0699,  0.0244,\n",
            "         -0.0575, -0.1203, -0.0332, -0.0306,  0.0722, -0.0334,  0.0716,  0.1200,\n",
            "          0.0088, -0.1116, -0.0533,  0.0551,  0.0298,  0.0851, -0.0142,  0.0054,\n",
            "         -0.0098, -0.0867,  0.0460, -0.0206,  0.1173, -0.1152,  0.0319,  0.0749,\n",
            "         -0.0763, -0.0142, -0.0013, -0.1170,  0.0209,  0.0155, -0.0642, -0.1250,\n",
            "         -0.0672,  0.0230, -0.0416, -0.1104, -0.0243,  0.0671,  0.0132,  0.0956,\n",
            "          0.0123,  0.0284, -0.0599,  0.0579, -0.0237,  0.0965, -0.0382, -0.0836],\n",
            "        [-0.0034, -0.0983, -0.0092, -0.1112, -0.1102,  0.0789, -0.0837,  0.0291,\n",
            "          0.0488,  0.0411, -0.0907,  0.0402, -0.1240,  0.0085, -0.0986, -0.1126,\n",
            "          0.0777,  0.0588,  0.0614,  0.0254, -0.0714, -0.0719,  0.0401, -0.1193,\n",
            "          0.0222, -0.0078,  0.0480,  0.0429, -0.0202, -0.0852, -0.0830,  0.0096,\n",
            "         -0.1176,  0.0655, -0.0665,  0.1105,  0.1141,  0.0545, -0.1141, -0.0289,\n",
            "         -0.0557,  0.0205, -0.0896,  0.0455, -0.0089, -0.0566, -0.0683, -0.0987,\n",
            "         -0.1008,  0.0918,  0.0971, -0.1234, -0.0285,  0.0184,  0.0083, -0.0862,\n",
            "          0.0350, -0.0153,  0.1248,  0.0136,  0.1077,  0.0241,  0.0345, -0.0496],\n",
            "        [-0.0073, -0.0232, -0.1002,  0.0365,  0.0250,  0.0596,  0.0574,  0.0977,\n",
            "         -0.1125, -0.0282,  0.1038,  0.0802, -0.0037,  0.1015, -0.0881,  0.1148,\n",
            "          0.0891,  0.0960,  0.0523, -0.0297, -0.1145, -0.0684, -0.0287, -0.1113,\n",
            "         -0.0151,  0.1019, -0.0367,  0.1132,  0.1002, -0.1067,  0.0289, -0.0197,\n",
            "         -0.0277, -0.0679, -0.0020,  0.0320, -0.0252,  0.0729, -0.0919,  0.0897,\n",
            "         -0.0670, -0.1210, -0.0381, -0.0965,  0.0300,  0.0003,  0.1194,  0.0933,\n",
            "          0.0711,  0.0680,  0.0311,  0.0873,  0.1211,  0.0201, -0.0278,  0.0482,\n",
            "          0.0477,  0.0549, -0.0723,  0.1093,  0.0069, -0.0261, -0.0920,  0.0894],\n",
            "        [ 0.0666,  0.1001,  0.0582,  0.0920,  0.0988, -0.1070,  0.0126,  0.0209,\n",
            "         -0.1045,  0.1209, -0.0003,  0.0758, -0.0950,  0.0222,  0.0366,  0.0257,\n",
            "         -0.0935,  0.1049,  0.1115, -0.0418,  0.0477, -0.0592,  0.0811,  0.0229,\n",
            "          0.0362,  0.1112,  0.0378, -0.1214, -0.0669, -0.0244,  0.0989, -0.0733,\n",
            "         -0.0735,  0.0564,  0.1086,  0.1079,  0.0593,  0.0240, -0.0447, -0.0596,\n",
            "          0.0933,  0.0052, -0.0531, -0.1020, -0.0581, -0.0032,  0.0493, -0.0699,\n",
            "          0.0517, -0.1116,  0.0307,  0.1092,  0.0220, -0.1057,  0.0388,  0.0817,\n",
            "          0.0106, -0.0855,  0.0397,  0.0132,  0.0118, -0.1041, -0.0352,  0.0960],\n",
            "        [-0.1148,  0.0499, -0.0807,  0.0137,  0.0049,  0.0071,  0.0742,  0.0831,\n",
            "         -0.0385,  0.0206,  0.0391, -0.0685,  0.0276, -0.0990, -0.0535,  0.0912,\n",
            "         -0.0730, -0.0076, -0.0744,  0.0435, -0.0338,  0.1206, -0.1211, -0.0493,\n",
            "         -0.0974,  0.0581, -0.1088, -0.0699,  0.0108,  0.0020,  0.0432, -0.1130,\n",
            "         -0.0989,  0.0324,  0.0168, -0.0558, -0.0477,  0.1129, -0.0926, -0.0285,\n",
            "         -0.0509, -0.0229, -0.0397,  0.0061, -0.0822,  0.0905,  0.0544,  0.1163,\n",
            "         -0.0304,  0.0111, -0.0480, -0.1142, -0.0230, -0.0573, -0.0324,  0.0451,\n",
            "          0.0531, -0.0256, -0.0406, -0.0083, -0.0220,  0.0964,  0.0127,  0.0081]],\n",
            "       requires_grad=True), Parameter containing:\n",
            "tensor([ 0.1073, -0.0223, -0.0026, -0.1200, -0.0152,  0.1158, -0.1009, -0.0335,\n",
            "         0.0608,  0.0205], requires_grad=True)]\n"
          ]
        }
      ]
    },
    {
      "cell_type": "markdown",
      "metadata": {
        "id": "sN4KUQfu_QW7"
      },
      "source": [
        "### `nn.Sequential`\n",
        "It's pretty common to have a sequence of layers we want to iteratively apply onto an input. We can replace the `for` loop business in the forward pass by using an `nn.Sequential` container, a very commonly used abstraction:"
      ]
    },
    {
      "cell_type": "code",
      "metadata": {
        "id": "rooDuNM2_C4S",
        "colab": {
          "base_uri": "https://localhost:8080/"
        },
        "outputId": "1ff4ea52-a299-4896-fcb0-748e9ddd5ef7"
      },
      "source": [
        "train(nn.Sequential(\n",
        "    nn.Linear(784, 64),\n",
        "    nn.ReLU(),\n",
        "    nn.Linear(64, 10)\n",
        "))"
      ],
      "execution_count": 30,
      "outputs": [
        {
          "output_type": "stream",
          "name": "stdout",
          "text": [
            "accuracy before: 0.11490000039339066\n",
            "accuracy after: 0.9587600231170654\n"
          ]
        }
      ]
    },
    {
      "cell_type": "markdown",
      "metadata": {
        "id": "Zx745oji_vrm"
      },
      "source": [
        "### `torch.optim`\n",
        "`torch.optim` contains implementations of many common optimization algorithms. When initializing an optimizer instance, we need to pass in the model parameters. Now, instead of manually coding the update rule, we call the optimizer's `step` method. The optimizer can also handle resetting parameter gradients."
      ]
    },
    {
      "cell_type": "code",
      "metadata": {
        "id": "tupyWULJ7ZpU",
        "colab": {
          "base_uri": "https://localhost:8080/"
        },
        "outputId": "e608db29-ce9b-431e-b270-cecda190bc41"
      },
      "source": [
        "from torch import optim\n",
        "\n",
        "def train(model):\n",
        "    optimizer = optim.SGD(model.parameters(), lr=lr)\n",
        "\n",
        "    print(f'accuracy before: {accuracy(model(x_train), y_train)}')\n",
        "\n",
        "    for i_epoch in range(num_epochs):\n",
        "        i_batch_start = 0\n",
        "        while i_batch_start + batch_size < x_train.shape[0]:\n",
        "            x_b = x_train[i_batch_start:i_batch_start + batch_size]\n",
        "            y_b = y_train[i_batch_start:i_batch_start + batch_size]\n",
        "            i_batch_start += batch_size\n",
        "\n",
        "            logit_b = model(x_b)\n",
        "            loss = F.cross_entropy(logit_b, y_b)\n",
        "            loss.backward()\n",
        "\n",
        "            optimizer.step()\n",
        "            optimizer.zero_grad() #\n",
        "\n",
        "    print(f'accuracy after: {accuracy(model(x_train), y_train)}')\n",
        "\n",
        "train(MNISTMLP())"
      ],
      "execution_count": 31,
      "outputs": [
        {
          "output_type": "stream",
          "name": "stdout",
          "text": [
            "accuracy before: 0.07468000054359436\n",
            "accuracy after: 0.9559599757194519\n"
          ]
        }
      ]
    },
    {
      "cell_type": "markdown",
      "metadata": {
        "id": "h7SRGPQQ-VSB"
      },
      "source": [
        "### `torch.utils.data`\n",
        "Notice how we are manually slicing the `x_train` and `y_train` tensors to get batches. There's a more convenient way to do this:\n",
        "`torch.utils.data` features the `Dataset`, `Sampler`, and `DataLoader` abstractions, which are useful for transforming, sampling, and iterating over data. Let's implement a custom `Dataset` subclass for MNIST which we can then use to instantiate a `DataLoader`:"
      ]
    },
    {
      "cell_type": "code",
      "metadata": {
        "id": "wL0iPSSRKpER",
        "colab": {
          "base_uri": "https://localhost:8080/"
        },
        "outputId": "c5192cba-7587-4a71-b3ee-2b06322f5678"
      },
      "source": [
        "from torch.utils import data\n",
        "\n",
        "class MNISTDataset(data.Dataset):\n",
        "    def __init__(self, x, y):\n",
        "        self.x = x\n",
        "        self.y = y\n",
        "\n",
        "    def __len__(self):\n",
        "        return len(self.y)\n",
        "\n",
        "    def __getitem__(self, idx):\n",
        "        return self.x[idx], self.y[idx]\n",
        "\n",
        "dataset_train = MNISTDataset(x_train, y_train)\n",
        "dataloader_train = data.DataLoader(dataset_train, batch_size=batch_size) # 이전과 다르게 데이터를 로드하는 과정이 간편해짐\n",
        "\n",
        "def train(model):\n",
        "    optimizer = optim.SGD(model.parameters(), lr=lr)\n",
        "\n",
        "    print(f'accuracy before: {accuracy(model(x_train), y_train)}')\n",
        "\n",
        "    for i_epoch in range(num_epochs):\n",
        "        for x_b, y_b in dataloader_train:   # dataloaders are iterators\n",
        "            logit_b = model(x_b)\n",
        "            loss = F.cross_entropy(logit_b, y_b)\n",
        "            loss.backward()\n",
        "\n",
        "            optimizer.step()\n",
        "            optimizer.zero_grad()\n",
        "\n",
        "    print(f'accuracy after: {accuracy(model(x_train), y_train)}')\n",
        "\n",
        "train(MNISTMLP())"
      ],
      "execution_count": 32,
      "outputs": [
        {
          "output_type": "stream",
          "name": "stdout",
          "text": [
            "accuracy before: 0.11405999958515167\n",
            "accuracy after: 0.9631199836730957\n"
          ]
        }
      ]
    },
    {
      "cell_type": "markdown",
      "metadata": {
        "id": "J3flJEs4LKZK"
      },
      "source": [
        "### Using a GPU\n",
        "Now, let's see how to use a GPU in PyTorch. Every tensor has a `device` attribute (default: `'cpu'`). GPU-accelerated computation requires the involved tensors to all be on device `'cuda'`. The `to` method is a handy way to move tensors around.\n",
        "\n"
      ]
    },
    {
      "cell_type": "code",
      "metadata": {
        "id": "iWosupXrT_IV",
        "colab": {
          "base_uri": "https://localhost:8080/"
        },
        "outputId": "a0472fc5-9f2d-402d-ad4a-9a4ef7338228"
      },
      "source": [
        "x = torch.tensor(1.)\n",
        "print(x.device)\n",
        "x = x.to('cuda')\n",
        "print(x.device)"
      ],
      "execution_count": 33,
      "outputs": [
        {
          "output_type": "stream",
          "name": "stdout",
          "text": [
            "cpu\n",
            "cuda:0\n"
          ]
        }
      ]
    },
    {
      "cell_type": "markdown",
      "metadata": {
        "id": "E6ms19-qYfHB"
      },
      "source": [
        "The `nn.Module` also has a `to` method that transfers all parameters (and buffer items) to a specified device."
      ]
    },
    {
      "cell_type": "code",
      "metadata": {
        "id": "EeokNbD3YDXr",
        "colab": {
          "base_uri": "https://localhost:8080/"
        },
        "outputId": "0e6d9ad4-f121-4c1a-ce49-25967d495fec"
      },
      "source": [
        "from torch.utils import data\n",
        "\n",
        "dataset_train = data.TensorDataset(x_train, y_train)\n",
        "dataloader_train = data.DataLoader(dataset_train, batch_size=batch_size)\n",
        "\n",
        "def train(model):\n",
        "    optimizer = optim.SGD(model.parameters(), lr=lr)\n",
        "\n",
        "    print(f'accuracy before: {accuracy(model(x_train.to(\"cuda\")), y_train.to(\"cuda\"))}')\n",
        "\n",
        "    for i_epoch in range(num_epochs):\n",
        "        # model.linear1.parameters.requires_grad = False\n",
        "        for x_b, y_b in dataloader_train:\n",
        "            x_b, y_b = x_b.to('cuda'), y_b.to('cuda')\n",
        "            logit_b = model(x_b)\n",
        "            loss = F.cross_entropy(logit_b, y_b)\n",
        "            loss.backward()\n",
        "\n",
        "            optimizer.step()\n",
        "            optimizer.zero_grad()\n",
        "\n",
        "    print(f'accuracy after: {accuracy(model(x_train.to(\"cuda\")), y_train.to(\"cuda\"))}')\n",
        "\n",
        "train(MNISTMLP().to('cuda'))"
      ],
      "execution_count": 34,
      "outputs": [
        {
          "output_type": "stream",
          "name": "stdout",
          "text": [
            "accuracy before: 0.093019999563694\n",
            "accuracy after: 0.9650999903678894\n"
          ]
        }
      ]
    },
    {
      "cell_type": "markdown",
      "metadata": {
        "id": "eIKUTPPTVT2e"
      },
      "source": [
        "### Clean-up\n",
        "To wrap this section up, we'll refactor our code to facilitate assessing on both train and val data with data-loading, and using the GPU."
      ]
    },
    {
      "cell_type": "code",
      "metadata": {
        "id": "PCtv2mcTAWSF",
        "colab": {
          "base_uri": "https://localhost:8080/"
        },
        "outputId": "2bdf4fbd-ba93-4357-b476-d7a8dd6caa64"
      },
      "source": [
        "dataset_val = data.TensorDataset(x_val, y_val)\n",
        "dataloader_val = data.DataLoader(dataset_val, batch_size=batch_size)\n",
        "\n",
        "def loss_fn(model, x_b, y_b):\n",
        "    logit_b = model(x_b)\n",
        "    loss = F.cross_entropy(logit_b, y_b)\n",
        "    return loss, y_b.shape[0]\n",
        "\n",
        "def accuracy(model, x_b, y_b):\n",
        "    logit_b = model(x_b)\n",
        "    accuracy = (logit_b.argmax(dim=1) == y_b).float().mean()\n",
        "    return accuracy, y_b.shape[0]\n",
        "\n",
        "def assess(model, dataloader):\n",
        "    loss_total_r, correct_r, n_r = 0, 0, 0\n",
        "    with torch.no_grad():\n",
        "        for x_b, y_b in dataloader:\n",
        "            x_b, y_b = x_b.to('cuda'), y_b.to('cuda')\n",
        "            loss, n = loss_fn(model, x_b, y_b)\n",
        "            acc, n = accuracy(model, x_b, y_b)\n",
        "            loss_total_r += loss * n\n",
        "            correct_r += acc * n\n",
        "            n_r += n\n",
        "    loss_total_r, correct_r = loss_total_r.item(), correct_r.item()\n",
        "    return loss_total_r / n_r, correct_r / n_r\n",
        "\n",
        "def train(model, optimizer):\n",
        "    print('before')\n",
        "    print(f'train loss and acc: {assess(model, dataloader_train)}')\n",
        "    print(f'val loss and acc: {assess(model, dataloader_val)}')\n",
        "\n",
        "    for i_epoch in range(num_epochs):\n",
        "        for x_b, y_b in dataloader_train:\n",
        "            x_b, y_b = x_b.to('cuda'), y_b.to('cuda')\n",
        "            loss, _ = loss_fn(model, x_b, y_b)\n",
        "            loss.backward()\n",
        "\n",
        "            optimizer.step()\n",
        "            optimizer.zero_grad()\n",
        "\n",
        "    print('after')\n",
        "    print(f'train loss and acc: {assess(model, dataloader_train)}')\n",
        "    print(f'val loss and acc: {assess(model, dataloader_val)}')\n",
        "\n",
        "model = MNISTMLP().to('cuda')\n",
        "optimizer = optim.SGD(model.parameters(), lr=lr)\n",
        "train(model, optimizer)"
      ],
      "execution_count": 35,
      "outputs": [
        {
          "output_type": "stream",
          "name": "stdout",
          "text": [
            "before\n",
            "train loss and acc: (2.3014034375, 0.12994)\n",
            "val loss and acc: (2.30115859375, 0.1388)\n",
            "after\n",
            "train loss and acc: (0.116224609375, 0.96454)\n",
            "val loss and acc: (0.131321875, 0.9625)\n"
          ]
        }
      ]
    },
    {
      "cell_type": "markdown",
      "metadata": {
        "id": "BwUn0NLuVjeY"
      },
      "source": [
        "# Exploring Additional Features of PyTorch: A Quick Overview"
      ]
    },
    {
      "cell_type": "markdown",
      "metadata": {
        "id": "xkZ98YSob72X"
      },
      "source": [
        "### MNIST CNN\n",
        "2D convolutional layers expect an input of shape $(B, C, H, W)$ or `(batch, channels, height, width)`. For a batch of MNIST images, this is $(B, 1, 28, 28)$."
      ]
    },
    {
      "cell_type": "code",
      "metadata": {
        "id": "tfXPPG3gb_cz",
        "colab": {
          "base_uri": "https://localhost:8080/"
        },
        "outputId": "9adabfbb-b92c-4691-9f9d-095e07160178"
      },
      "source": [
        "class MNISTCNN(nn.Module):\n",
        "    def __init__(self):\n",
        "        super().__init__()\n",
        "        self.layers = nn.Sequential(\n",
        "            nn.Conv2d(in_channels=1, out_channels=20, kernel_size=(5, 5), stride=1, padding=0),\n",
        "            nn.MaxPool2d(kernel_size=2, stride=2, padding=0),\n",
        "            nn.Conv2d(in_channels=20, out_channels=50, kernel_size=(5, 5), stride=1, padding=0),\n",
        "            nn.MaxPool2d(kernel_size=2, stride=2, padding=0),\n",
        "            nn.Flatten(),\n",
        "            nn.Linear(800, 500),\n",
        "            nn.ReLU(),\n",
        "            nn.Linear(500, 10)\n",
        "        )\n",
        "\n",
        "    def forward(self, x_b):\n",
        "        return self.layers(x_b.view((-1, 1, 28, 28)))\n",
        "\n",
        "model = MNISTCNN().to('cuda')\n",
        "optimizer = optim.Adam(model.parameters(), lr=1e-3)\n",
        "train(model, optimizer)"
      ],
      "execution_count": 36,
      "outputs": [
        {
          "output_type": "stream",
          "name": "stdout",
          "text": [
            "before\n",
            "train loss and acc: (2.29831640625, 0.15734)\n",
            "val loss and acc: (2.298991796875, 0.1472)\n",
            "after\n",
            "train loss and acc: (0.03313285400390625, 0.98936)\n",
            "val loss and acc: (0.05343474731445313, 0.9857)\n"
          ]
        }
      ]
    },
    {
      "cell_type": "markdown",
      "metadata": {
        "id": "XLV7dSnk_xC4"
      },
      "source": [
        "### MNIST LSTM\n",
        "When constructed using the `batch_first=True` argument, `nn.LSTM`s expect inputs of shape $(B, L, D)$ or `(batch, sequence length, element size)`. We'll interpret the rows of the MNIST image as sequence elements, and compute the logits from the last LSTM output (i.e. wait for the LSTM to see the entire image)."
      ]
    },
    {
      "cell_type": "code",
      "metadata": {
        "id": "CSA3chD5Aiu_",
        "colab": {
          "base_uri": "https://localhost:8080/"
        },
        "outputId": "43bf9841-964b-4c41-e070-1250aedfbf36"
      },
      "source": [
        "class MNISTLSTM(nn.Module):\n",
        "    def __init__(self):\n",
        "        super().__init__()\n",
        "        self.LSTM = nn.LSTM(input_size=28, hidden_size=64, num_layers=1, batch_first=True)\n",
        "        self.linear = nn.Linear(64, 10)\n",
        "\n",
        "    def forward(self, x_b):\n",
        "        out, _ = self.LSTM(x_b.view((-1, 28, 28)))  # out contains outputs at each iteration over the sequence\n",
        "        return self.linear(out[:, -1, :])   # only the out at the last iteration has seen the entire image\n",
        "\n",
        "model = MNISTLSTM().to('cuda')\n",
        "optimizer = optim.Adam(model.parameters(), lr=1e-3)\n",
        "train(model, optimizer)"
      ],
      "execution_count": 37,
      "outputs": [
        {
          "output_type": "stream",
          "name": "stdout",
          "text": [
            "before\n",
            "train loss and acc: (2.30695765625, 0.09882)\n",
            "val loss and acc: (2.3063658203125, 0.0993)\n",
            "after\n",
            "train loss and acc: (0.16503978515625, 0.95188)\n",
            "val loss and acc: (0.15935823974609375, 0.9528)\n"
          ]
        }
      ]
    },
    {
      "cell_type": "markdown",
      "metadata": {
        "id": "j7gNjS2HEeEo"
      },
      "source": [
        "### `nn.Embedding`\n",
        "Oftentimes we will have categorical data with too many categories to comfortably convert into one-hot encodings. Examples of this include tokens in NLP and $(x,y)$ positions on a grid. One common way to process this data is to use an `nn.Embedding`, or a table of dense vectors that can be indexed by the categorical data. The dense vectors can be optimized. `nn.Embedding` supports advanced indexing."
      ]
    },
    {
      "cell_type": "code",
      "metadata": {
        "id": "_45NPu8MHZMu",
        "colab": {
          "base_uri": "https://localhost:8080/"
        },
        "outputId": "e9b1f424-d523-440f-aaba-4849387d0094"
      },
      "source": [
        "embedding = nn.Embedding(num_embeddings=1000, embedding_dim=64) # Creating an Embedding Layer\n",
        "print(embedding(torch.tensor(42)).shape)  # Accessing a Specific Embedding\n",
        "print(embedding(torch.tensor(42)).requires_grad)  # Gradient Requirement\n",
        "indices = torch.tensor([        # Batch of Indices: 2 samples and each sample contains 4 indices\n",
        "    [0, 1, 42, 999],\n",
        "    [1, 1, 2, 3]\n",
        "])\n",
        "print(indices.shape)\n",
        "print(embedding(indices).shape) # Batch Embedding Lookup"
      ],
      "execution_count": 38,
      "outputs": [
        {
          "output_type": "stream",
          "name": "stdout",
          "text": [
            "torch.Size([64])\n",
            "True\n",
            "torch.Size([2, 4])\n",
            "torch.Size([2, 4, 64])\n"
          ]
        }
      ]
    },
    {
      "cell_type": "markdown",
      "metadata": {
        "id": "G4hyCvaoIq-c"
      },
      "source": [
        "If you're interested in NLP, a nice use of `nn.Embedding` and recurrent layers (`nn.GRU`) for natural language translation can be found in [this tutorial](https://pytorch.org/tutorials/intermediate/seq2seq_translation_tutorial.html)."
      ]
    },
    {
      "cell_type": "markdown",
      "metadata": {
        "id": "pun7z9zGqbvH"
      },
      "source": [
        "### `torch.distributions`\n",
        "Aside from conveniently providing commonly used methods (e.g. density/mass evaluation), one of the main features of this module is the use of the reparameterization trick to facilitate backpropagation through random samples to the underlying distribution parameters (and beyond)."
      ]
    },
    {
      "cell_type": "code",
      "metadata": {
        "id": "BHyPfnxdJvc4",
        "colab": {
          "base_uri": "https://localhost:8080/"
        },
        "outputId": "9e7f0b62-43c0-4bfd-d3d0-14c5052d7825"
      },
      "source": [
        "from torch import distributions\n",
        "loc = torch.tensor(0., requires_grad=True)\n",
        "scale = torch.tensor(1., requires_grad=True)\n",
        "p = distributions.Normal(loc, scale)\n",
        "x = p.rsample(torch.Size([5]))\n",
        "print(x)    # grad_fn comes from reparameterization trick\n",
        "y = -torch.mean(x**2)\n",
        "y.backward()\n",
        "print(scale.grad)"
      ],
      "execution_count": 39,
      "outputs": [
        {
          "output_type": "stream",
          "name": "stdout",
          "text": [
            "tensor([-1.8120, -1.6078,  0.1270,  0.1653, -0.8408], grad_fn=<AddBackward0>)\n",
            "tensor(-2.6476)\n"
          ]
        }
      ]
    },
    {
      "cell_type": "markdown",
      "metadata": {
        "id": "vRZRNM6MLZMU"
      },
      "source": [
        "If we don't use `rsample`, we can't take gradients through the sampling step."
      ]
    },
    {
      "cell_type": "code",
      "metadata": {
        "id": "sWDu3fi6LN0y",
        "colab": {
          "base_uri": "https://localhost:8080/",
          "height": 351
        },
        "outputId": "6769a2f1-e335-49bf-dba3-1f9b01a4ba6a"
      },
      "source": [
        "x = p.sample(torch.Size([5]))\n",
        "print(x)\n",
        "y = -torch.sum(x**2)\n",
        "y.backward()"
      ],
      "execution_count": 41,
      "outputs": [
        {
          "output_type": "stream",
          "name": "stdout",
          "text": [
            "tensor([ 0.6452, -0.9147,  0.4010,  1.8897,  1.4067])\n"
          ]
        },
        {
          "output_type": "error",
          "ename": "RuntimeError",
          "evalue": "element 0 of tensors does not require grad and does not have a grad_fn",
          "traceback": [
            "\u001b[0;31m---------------------------------------------------------------------------\u001b[0m",
            "\u001b[0;31mRuntimeError\u001b[0m                              Traceback (most recent call last)",
            "\u001b[0;32m<ipython-input-41-694ee59c3544>\u001b[0m in \u001b[0;36m<cell line: 4>\u001b[0;34m()\u001b[0m\n\u001b[1;32m      2\u001b[0m \u001b[0mprint\u001b[0m\u001b[0;34m(\u001b[0m\u001b[0mx\u001b[0m\u001b[0;34m)\u001b[0m\u001b[0;34m\u001b[0m\u001b[0;34m\u001b[0m\u001b[0m\n\u001b[1;32m      3\u001b[0m \u001b[0my\u001b[0m \u001b[0;34m=\u001b[0m \u001b[0;34m-\u001b[0m\u001b[0mtorch\u001b[0m\u001b[0;34m.\u001b[0m\u001b[0msum\u001b[0m\u001b[0;34m(\u001b[0m\u001b[0mx\u001b[0m\u001b[0;34m**\u001b[0m\u001b[0;36m2\u001b[0m\u001b[0;34m)\u001b[0m\u001b[0;34m\u001b[0m\u001b[0;34m\u001b[0m\u001b[0m\n\u001b[0;32m----> 4\u001b[0;31m \u001b[0my\u001b[0m\u001b[0;34m.\u001b[0m\u001b[0mbackward\u001b[0m\u001b[0;34m(\u001b[0m\u001b[0;34m)\u001b[0m\u001b[0;34m\u001b[0m\u001b[0;34m\u001b[0m\u001b[0m\n\u001b[0m",
            "\u001b[0;32m/usr/local/lib/python3.10/dist-packages/torch/_tensor.py\u001b[0m in \u001b[0;36mbackward\u001b[0;34m(self, gradient, retain_graph, create_graph, inputs)\u001b[0m\n\u001b[1;32m    520\u001b[0m                 \u001b[0minputs\u001b[0m\u001b[0;34m=\u001b[0m\u001b[0minputs\u001b[0m\u001b[0;34m,\u001b[0m\u001b[0;34m\u001b[0m\u001b[0;34m\u001b[0m\u001b[0m\n\u001b[1;32m    521\u001b[0m             )\n\u001b[0;32m--> 522\u001b[0;31m         torch.autograd.backward(\n\u001b[0m\u001b[1;32m    523\u001b[0m             \u001b[0mself\u001b[0m\u001b[0;34m,\u001b[0m \u001b[0mgradient\u001b[0m\u001b[0;34m,\u001b[0m \u001b[0mretain_graph\u001b[0m\u001b[0;34m,\u001b[0m \u001b[0mcreate_graph\u001b[0m\u001b[0;34m,\u001b[0m \u001b[0minputs\u001b[0m\u001b[0;34m=\u001b[0m\u001b[0minputs\u001b[0m\u001b[0;34m\u001b[0m\u001b[0;34m\u001b[0m\u001b[0m\n\u001b[1;32m    524\u001b[0m         )\n",
            "\u001b[0;32m/usr/local/lib/python3.10/dist-packages/torch/autograd/__init__.py\u001b[0m in \u001b[0;36mbackward\u001b[0;34m(tensors, grad_tensors, retain_graph, create_graph, grad_variables, inputs)\u001b[0m\n\u001b[1;32m    264\u001b[0m     \u001b[0;31m# some Python versions print out the first line of a multi-line function\u001b[0m\u001b[0;34m\u001b[0m\u001b[0;34m\u001b[0m\u001b[0m\n\u001b[1;32m    265\u001b[0m     \u001b[0;31m# calls in the traceback and some print out the last line\u001b[0m\u001b[0;34m\u001b[0m\u001b[0;34m\u001b[0m\u001b[0m\n\u001b[0;32m--> 266\u001b[0;31m     Variable._execution_engine.run_backward(  # Calls into the C++ engine to run the backward pass\n\u001b[0m\u001b[1;32m    267\u001b[0m         \u001b[0mtensors\u001b[0m\u001b[0;34m,\u001b[0m\u001b[0;34m\u001b[0m\u001b[0;34m\u001b[0m\u001b[0m\n\u001b[1;32m    268\u001b[0m         \u001b[0mgrad_tensors_\u001b[0m\u001b[0;34m,\u001b[0m\u001b[0;34m\u001b[0m\u001b[0;34m\u001b[0m\u001b[0m\n",
            "\u001b[0;31mRuntimeError\u001b[0m: element 0 of tensors does not require grad and does not have a grad_fn"
          ]
        }
      ]
    },
    {
      "cell_type": "markdown",
      "metadata": {
        "id": "GrIbkiJhNyRF"
      },
      "source": [
        "# Debugging, Documentation, and Getting Help\n",
        "If you are not coding in Jupyter notebooks, but in Python scripts. This means you won't have the interactivity of cell-based execution, but to the rescue comes `pdb`, the Python Debugger. Use it to\n",
        "\n",
        "*   set breakpoints in the code to interactively inspect program elements: `import pdb; pdb.set_trace()`\n",
        "*   automatically start a debugging session when an exception is thrown: `python -m pdb -c continue main.py`\n",
        "\n",
        "Both will be super, super useful.\n",
        "\n",
        "When something about PyTorch is confusing you, the first place to look is the [PyTorch documentation](https://pytorch.org/docs/stable/index.html). (The author of this tutorial consulted the documentation no fewer than 20 times when making it.) This is often the last place you need to look, but sometimes the [PyTorch forums](https://discuss.pytorch.org/) can be helpful, too. (Use the search tool!)\n"
      ]
    },
    {
      "cell_type": "markdown",
      "metadata": {
        "id": "c5FIR5icqCax"
      },
      "source": [
        "\n",
        "\n",
        "---\n",
        "\n"
      ]
    }
  ]
}